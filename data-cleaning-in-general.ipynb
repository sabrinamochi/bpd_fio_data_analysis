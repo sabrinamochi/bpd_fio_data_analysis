{
 "cells": [
  {
   "cell_type": "markdown",
   "metadata": {},
   "source": [
    "Data sources:\n",
    "- [BPD FIO data](https://data.boston.gov/dataset/boston-police-department-fio) (2011 - 2019, I'm using data between 2015 and 2019)"
   ]
  },
  {
   "cell_type": "markdown",
   "metadata": {},
   "source": [
    "(Some of the following codes were referenced from the data analysis done by [@jacoblurye](https://github.com/jacoblurye/bpd-fio-data/blob/master/process_bpd_fio_data.ipynb). Thanks to him, my data cleaning process was less painful.)"
   ]
  },
  {
   "cell_type": "code",
   "execution_count": 1,
   "metadata": {},
   "outputs": [],
   "source": [
    "# import packages\n",
    "import pandas as pd\n",
    "import re\n",
    "import datetime\n",
    "import missingno as msno\n",
    "import numpy as np\n",
    "\n",
    "import matplotlib.pyplot as plt\n",
    "%matplotlib inline\n",
    "plt.style.use('bmh')"
   ]
  },
  {
   "cell_type": "code",
   "execution_count": 2,
   "metadata": {},
   "outputs": [],
   "source": [
    "# load in datasets from 2015 to 2019\n",
    "''' there are two kinds of datasets - \n",
    "* field contacts data list each contact between BPD and one or more individuals\n",
    "* field contacts name data list each individual involved in these contacts '''\n",
    "\n",
    "ind_path191 = 'data/bpd/rms_fieldcontacts_name_for_public_2019.csv'\n",
    "pol_path191 = 'data/bpd/rms_fieldcontacts_for_public_2019.csv'\n",
    "ind_path192 = 'data/bpd/mark43_fieldcontacts_name_for_public_2019.csv'\n",
    "pol_path192 = 'data/bpd/mark43_fieldcontacts_for_public_20192.csv'\n",
    "ind_path18 = 'data/bpd/rms_fieldcontacts_name_for_public_2018_202003111443.csv'\n",
    "pol_path18 = 'data/bpd/rms_fieldcontacts_2018.csv'\n",
    "ind_path17 = 'data/bpd/rms_fieldcontacts_name_for_public_2017_202003111442.csv'\n",
    "pol_path17 = 'data/bpd/rms_fieldcontacts_for_public_2017_202003111424.csv'\n",
    "ind_path16 = 'data/bpd/fieldcontactnameforpublic2016.csv'\n",
    "pol_path16 = 'data/bpd/fieldcontactforpublic2016.csv'\n",
    "ind_path15 = 'data/bpd/fieldcontactnameforpublic2015.csv'\n",
    "pol_path15 = 'data/bpd/fieldcontactforpublic2015.csv'\n",
    "# pathB15 = 'data/bpd/boston-police-department-fio.csv'\n",
    "\n",
    "ind_files = [ind_path191, ind_path192, ind_path18, ind_path17, ind_path16, ind_path15]\n",
    "pol_files = [pol_path191, pol_path192, pol_path18, pol_path17, pol_path16, pol_path15]\n",
    "\n",
    "def read_concat_csv(files):\n",
    "    li = []\n",
    "\n",
    "    for filename in files:\n",
    "        df = pd.read_csv(filename, index_col=None, header=0)\n",
    "        li.append(df)\n",
    "\n",
    "    concated = pd.concat(li, axis=0, ignore_index=True)\n",
    "\n",
    "    return concated\n",
    "\n",
    "\n",
    "indvsl = read_concat_csv(ind_files)\n",
    "plc = read_concat_csv(pol_files)"
   ]
  },
  {
   "cell_type": "markdown",
   "metadata": {},
   "source": [
    "#### !!!IMPORTANT MSG from the BPD!!!\n",
    "\n",
    "\"While these two tables align on the field contact number (fc_num) column, it is not methodologically correct to join the two datasets for the purpose of generating aggregate statistics on columns from the FieldContact table. Doing so would lead to incorrect estimates stemming from contacts with multiple individuals. As noted in the Data Key (New RMS) file, several of the columns in the FieldContact table apply to the contact as a whole, but may not necessarily apply to each individual involved in the contact.\" These include:\n",
    "\n",
    "- frisked\n",
    "- searchperson\n",
    "- summonsissued\n",
    "- circumstances\n",
    "- basis\n",
    "- contact_reason\n"
   ]
  },
  {
   "cell_type": "markdown",
   "metadata": {},
   "source": [
    "# 1.Data Cleaning"
   ]
  },
  {
   "cell_type": "markdown",
   "metadata": {},
   "source": [
    "### Deal with the frisk/search columns in field contact (fc) dataset (a.k.a plc)"
   ]
  },
  {
   "cell_type": "markdown",
   "metadata": {},
   "source": [
    "Something worth noting here is that the \"frisked\" and \"searchperson\" in the field contacts data, which was generated from the \"New RMS\" system, indicate at least one indivisual was frisked or searched in the incident. However, the fc data generated from MARK43 system (between SEPT 29 and DEC 31 2019) doesn't contain those two columns. The good news is that the fc name (a.k.a. indvsl) data from MARK43 documented the frisk/search value at an indivisual level, indicating whether the indivisual was frisked or searched during a field contact. "
   ]
  },
  {
   "cell_type": "code",
   "execution_count": 3,
   "metadata": {},
   "outputs": [
    {
     "data": {
      "text/plain": [
       "Index(['fc_num', 'contact_date', 'contact_officer', 'contact_officer_name',\n",
       "       'supervisor', 'supervisor_name', 'street', 'city', 'state', 'zip',\n",
       "       'frisked', 'searchperson', 'searchvehicle', 'summonsissued',\n",
       "       'stop_duration', 'circumstance', 'basis', 'vehicle_year',\n",
       "       'vehicle_state', 'vehicle_make', 'vehicle_model', 'vehicle_color',\n",
       "       'vehicle_style', 'vehicle_type', 'contact_reason', 'key_situations',\n",
       "       'narrative', 'weather', 'streetaddr'],\n",
       "      dtype='object')"
      ]
     },
     "execution_count": 3,
     "metadata": {},
     "output_type": "execute_result"
    }
   ],
   "source": [
    "# columns included in plc data\n",
    "plc.columns"
   ]
  },
  {
   "cell_type": "code",
   "execution_count": 4,
   "metadata": {},
   "outputs": [
    {
     "data": {
      "text/plain": [
       "(44105, 29)"
      ]
     },
     "execution_count": 4,
     "metadata": {},
     "output_type": "execute_result"
    }
   ],
   "source": [
    "# number of rows and columns\n",
    "plc.shape"
   ]
  },
  {
   "cell_type": "code",
   "execution_count": 5,
   "metadata": {
    "scrolled": true
   },
   "outputs": [
    {
     "data": {
      "text/plain": [
       "(35, 29)"
      ]
     },
     "execution_count": 5,
     "metadata": {},
     "output_type": "execute_result"
    }
   ],
   "source": [
    "# 35 records in the \"contacts\" dataset contain duplicate values in fc_num column, which should be an unique id. \n",
    "plc[plc.duplicated(subset=[\"fc_num\"], keep=False)].shape"
   ]
  },
  {
   "cell_type": "code",
   "execution_count": 6,
   "metadata": {},
   "outputs": [],
   "source": [
    "# I kept the last record only. \n",
    "plc = plc.drop_duplicates(subset=[\"fc_num\"], keep=\"last\")"
   ]
  },
  {
   "cell_type": "code",
   "execution_count": 7,
   "metadata": {},
   "outputs": [],
   "source": [
    "# lowercase all columns instead of fc_num\n",
    "fcnum1 = plc[\"fc_num\"]\n",
    "plc = plc.applymap(lambda x: x.lower() if isinstance(x, str) else x)\n",
    "plc[\"fc_num\"] = fcnum1\n",
    "\n",
    "fcnum2 = indvsl[\"fc_num\"]\n",
    "indvsl = indvsl.applymap(lambda x: x.lower() if isinstance(x, str) else x)\n",
    "indvsl[\"fc_num\"] = fcnum2\n"
   ]
  },
  {
   "cell_type": "code",
   "execution_count": 8,
   "metadata": {},
   "outputs": [
    {
     "data": {
      "text/plain": [
       "array([nan, 'y'], dtype=object)"
      ]
     },
     "execution_count": 8,
     "metadata": {},
     "output_type": "execute_result"
    }
   ],
   "source": [
    "plc.frisked.unique()3"
   ]
  },
  {
   "cell_type": "code",
   "execution_count": 8,
   "metadata": {},
   "outputs": [],
   "source": [
    "# combine \"frisked\", \"searchperson\", \"searchvehicle\" columns into one, \"frisked_or_searched_involved\"\n",
    "# remember: data generated from mark43 system will have a nan value because it doesn't contain this column\n",
    "combine_method = (\n",
    "        lambda row: \"y\"\n",
    "        if row.frisked == \"y\" or row.searchperson == \"y\" or row.searchvehicle == \"y\"\n",
    "        else \"n\"\n",
    "    )"
   ]
  },
  {
   "cell_type": "code",
   "execution_count": 9,
   "metadata": {},
   "outputs": [],
   "source": [
    "combined_plc = plc[[\"frisked\", \"searchperson\", \"searchvehicle\"]].apply(\n",
    "        combine_method, axis=1)"
   ]
  },
  {
   "cell_type": "code",
   "execution_count": 10,
   "metadata": {
    "scrolled": true
   },
   "outputs": [],
   "source": [
    "plc[\"person_involved_in_frisked_or_searched\"] = combined_plc\n",
    "plc = plc.drop(columns=[\"frisked\", \"searchperson\", \"searchvehicle\"]).reset_index(drop=True)"
   ]
  },
  {
   "cell_type": "markdown",
   "metadata": {},
   "source": [
    "### Deal with the frisk/search columns in fc name dataset (a.k.a. indvsl)"
   ]
  },
  {
   "cell_type": "code",
   "execution_count": 11,
   "metadata": {},
   "outputs": [
    {
     "data": {
      "text/plain": [
       "Index(['recnum', 'fc_num', 'contact_date', 'sex', 'race', 'age', 'build',\n",
       "       'hair_style', 'complexion', 'ethnicity', 'otherclothing', 'skin_tone',\n",
       "       'deceased', 'license_state', 'license_type', 'frisk/search'],\n",
       "      dtype='object')"
      ]
     },
     "execution_count": 11,
     "metadata": {},
     "output_type": "execute_result"
    }
   ],
   "source": [
    "indvsl.columns"
   ]
  },
  {
   "cell_type": "code",
   "execution_count": 12,
   "metadata": {},
   "outputs": [],
   "source": [
    "# To disambuate the frisk/search column from person_involved_in_frisked_or_searched in plc dataset,\n",
    "# I rename it \"frisk/search\"\n",
    "indvsl = indvsl.rename(columns={\"frisk/search\": \"person_frisked_or_searched\"})"
   ]
  },
  {
   "cell_type": "code",
   "execution_count": 13,
   "metadata": {},
   "outputs": [
    {
     "data": {
      "text/plain": [
       "NaN    67742\n",
       "0.0     1755\n",
       "1.0     1040\n",
       "Name: person_frisked_or_searched, dtype: int64"
      ]
     },
     "execution_count": 13,
     "metadata": {},
     "output_type": "execute_result"
    }
   ],
   "source": [
    "# There will be lots of NaN values since only datasets generated from mark43 system have the \"frisk/search\" column\n",
    "indvsl.person_frisked_or_searched.value_counts(dropna=False)"
   ]
  },
  {
   "cell_type": "code",
   "execution_count": 14,
   "metadata": {},
   "outputs": [],
   "source": [
    "indvsl.person_frisked_or_searched = indvsl.person_frisked_or_searched.apply(lambda x: str(x))"
   ]
  },
  {
   "cell_type": "code",
   "execution_count": 15,
   "metadata": {},
   "outputs": [],
   "source": [
    "# convert the value from 0 and 1 to n and y\n",
    "indvsl.person_frisked_or_searched = indvsl.person_frisked_or_searched.replace({\"0.0\":\"n\", \"1.0\":\"y\"})"
   ]
  },
  {
   "cell_type": "markdown",
   "metadata": {},
   "source": [
    "### Infer whether a filed contact involved a search/frisk conduct from indvsl dataset"
   ]
  },
  {
   "cell_type": "code",
   "execution_count": 16,
   "metadata": {},
   "outputs": [],
   "source": [
    "''' \n",
    "Although the fc data in mark43 system doesn't provide frisked/searched info,\n",
    "we can infer whether a field contact involved frisked/searched based on\n",
    "the fc name data - whether the person invovled in the field contact were frisked or searched.\n",
    "'''\n",
    "plc_with_no_fs = plc.person_involved_in_frisked_or_searched.isnull()\n",
    "indvsl_involved_fs = indvsl.groupby(\"fc_num\").apply(\n",
    "    lambda x: \"y\"\n",
    "    if (x.person_frisked_or_searched == \"y\").any()\n",
    "    else \"n\"\n",
    "    if (x.person_frisked_or_searched == \"n\").all()\n",
    "    else \"n\"\n",
    "    )"
   ]
  },
  {
   "cell_type": "code",
   "execution_count": 17,
   "metadata": {},
   "outputs": [],
   "source": [
    "plc.loc[plc_with_no_fs, \"person_involved_in_frisked_or_searched\"] = plc[\n",
    "    plc_with_no_fs\n",
    "].apply(lambda x: indvsl_involved_fs.loc[x.fc_num], axis=1)"
   ]
  },
  {
   "cell_type": "markdown",
   "metadata": {},
   "source": [
    "### Datetime object"
   ]
  },
  {
   "cell_type": "code",
   "execution_count": 18,
   "metadata": {},
   "outputs": [],
   "source": [
    "plc = plc.reset_index(drop=True)\n",
    "indvsl = indvsl.reset_index(drop=True)"
   ]
  },
  {
   "cell_type": "code",
   "execution_count": 19,
   "metadata": {},
   "outputs": [],
   "source": [
    "# one weird record should be dropped: 217-04-17 12:30:00\n",
    "weird_date = \"0217-04-17 12:30:00.0000000\"\n",
    "plc = plc[plc.contact_date != weird_date]\n",
    "indvsl = indvsl[indvsl.contact_date != weird_date]"
   ]
  },
  {
   "cell_type": "code",
   "execution_count": 20,
   "metadata": {},
   "outputs": [],
   "source": [
    "plc.contact_date = pd.to_datetime(plc.contact_date)\n",
    "indvsl.contact_date = pd.to_datetime(indvsl.contact_date)"
   ]
  },
  {
   "cell_type": "code",
   "execution_count": 21,
   "metadata": {},
   "outputs": [
    {
     "name": "stderr",
     "output_type": "stream",
     "text": [
      "/opt/anaconda3/lib/python3.7/site-packages/pandas/core/arrays/datetimes.py:692: PerformanceWarning: Non-vectorized DateOffset being applied to Series or DatetimeIndex\n",
      "  PerformanceWarning,\n"
     ]
    }
   ],
   "source": [
    "# delete data records before 2015\n",
    "wrong_year = plc.contact_date.dt.year.astype(int) < 2015 #Again, create a true/false series\n",
    "plc.loc[wrong_year, \"contact_date\"] = plc.contact_date[wrong_year] + pd.offsets.DateOffset(year=2015)\n",
    "wrong_year = indvsl.contact_date.dt.year.astype(int) < 2015 #Again, create a true/false series\n",
    "indvsl.loc[wrong_year, \"contact_date\"] = indvsl.contact_date[wrong_year] + pd.offsets.DateOffset(year=2015)"
   ]
  },
  {
   "cell_type": "markdown",
   "metadata": {},
   "source": [
    "### Clean zip"
   ]
  },
  {
   "cell_type": "code",
   "execution_count": 22,
   "metadata": {},
   "outputs": [],
   "source": [
    "empty_street = plc.street.isnull()\n",
    "plc.loc[empty_street, \"street\"] = plc.streetaddr[empty_street]\n",
    "plc.street = plc.street.apply(lambda s: str(s).replace(\"&\", \"/\"))\n",
    "\n",
    "plc = plc.drop(columns=[\"streetaddr\"])\n",
    "\n",
    "plc.zip = plc.zip.apply(lambda zip: str(str(zip).split(\"-\")[0]).split(\".\")[0])\n",
    "plc.zip = plc.zip.apply(lambda zip: zip if len(zip) == 5 else \"0\"+zip)"
   ]
  },
  {
   "cell_type": "markdown",
   "metadata": {},
   "source": [
    "### Clean vehicle info"
   ]
  },
  {
   "cell_type": "code",
   "execution_count": 23,
   "metadata": {},
   "outputs": [
    {
     "data": {
      "text/plain": [
       "array([nan, 'sedan', 'other', 'compact', 'suv or utility van',\n",
       "       'station wagon', 'school bus', 'truck', 'bus/passenger van',\n",
       "       'motorcycle or scooter', 'convertible',\n",
       "       'passenger car/ automobile', 'cargo van',\n",
       "       'suv (sport utility vehicle)', 'passenger van', 'pickup truck',\n",
       "       'scooter', 'other vehicle', 'motorhome', 'construction vehicle'],\n",
       "      dtype=object)"
      ]
     },
     "execution_count": 23,
     "metadata": {},
     "output_type": "execute_result"
    }
   ],
   "source": [
    "plc.vehicle_type.unique()"
   ]
  },
  {
   "cell_type": "code",
   "execution_count": 24,
   "metadata": {},
   "outputs": [],
   "source": [
    "plc.vehicle_type = plc.vehicle_type.replace({\n",
    "    \"scooter\": 'motorcycle or scooter',\n",
    "    'suv (sport utility vehicle)': 'suv or utility van',\n",
    "    'cargo van': 'suv or utility van',\n",
    "    'passenger van': 'bus or passenger van',\n",
    "    'bus/passenger van': 'bus or passenger van',\n",
    "    'passenger car/ automobile':'passenger car'\n",
    "    \n",
    "})\n",
    "                                        "
   ]
  },
  {
   "cell_type": "code",
   "execution_count": 25,
   "metadata": {},
   "outputs": [
    {
     "data": {
      "text/plain": [
       "array([nan, 'black ', 'gray', 'red', 'green ', 'blue', 'lt. blue',\n",
       "       'white', 'silver', 'brown', 'tan ', 'orange', 'yellow', 'maroon ',\n",
       "       'lt. green ', 'purple', 'gold', 'cream ', 'bla', 'black', 'green',\n",
       "       'maroon', 'gra', 'tan', 'gre', 'light green', 'dark blue',\n",
       "       'dark green', 'pink '], dtype=object)"
      ]
     },
     "execution_count": 25,
     "metadata": {},
     "output_type": "execute_result"
    }
   ],
   "source": [
    "plc.vehicle_color.unique()"
   ]
  },
  {
   "cell_type": "code",
   "execution_count": 26,
   "metadata": {},
   "outputs": [],
   "source": [
    "plc.vehicle_color = plc.vehicle_color.str.rstrip().replace({\n",
    "    \"lt. blue\": \"light blue\",\n",
    "    \"lt. green\": \"light green\",\n",
    "    \"bla\": \"black\",\n",
    "    \"gra\": \"gray\",\n",
    "    \"gre\": \"grean\"\n",
    "})\n",
    "            "
   ]
  },
  {
   "cell_type": "code",
   "execution_count": 27,
   "metadata": {},
   "outputs": [
    {
     "data": {
      "text/plain": [
       "NaN       28981\n",
       "2015.0     1052\n",
       "2004.0      983\n",
       "2005.0      959\n",
       "2008.0      943\n",
       "          ...  \n",
       "1981.0        1\n",
       "1195.0        1\n",
       "115.0         1\n",
       "1971.0        1\n",
       "1977.0        1\n",
       "Name: vehicle_year, Length: 69, dtype: int64"
      ]
     },
     "execution_count": 27,
     "metadata": {},
     "output_type": "execute_result"
    }
   ],
   "source": [
    "plc.vehicle_year.value_counts(dropna=False)"
   ]
  },
  {
   "cell_type": "code",
   "execution_count": 28,
   "metadata": {},
   "outputs": [],
   "source": [
    "def fix_year(col):\n",
    "    if np.isnan(col):\n",
    "        return col\n",
    "    if col >= 1900:\n",
    "        return col\n",
    "    if (col > 99):\n",
    "        return np.nan\n",
    "    if col < 10:\n",
    "        return f\"200{col}\"\n",
    "    if col < 21:\n",
    "        return f\"20{col}\"\n",
    "    else:\n",
    "        return f\"19{col}\"        "
   ]
  },
  {
   "cell_type": "code",
   "execution_count": 29,
   "metadata": {},
   "outputs": [],
   "source": [
    "plc.vehicle_year = plc.vehicle_year.apply(fix_year)"
   ]
  },
  {
   "cell_type": "markdown",
   "metadata": {},
   "source": [
    "### Combine contact reasons in new RMS and narrative in mark43"
   ]
  },
  {
   "cell_type": "code",
   "execution_count": 30,
   "metadata": {},
   "outputs": [],
   "source": [
    "missing_contact_reason = plc.contact_reason.isnull()\n",
    "plc.loc[missing_contact_reason, \"contact_reason\"] = plc[missing_contact_reason][\"narrative\"]\n",
    "plc = plc.drop(columns=[\"narrative\"]).reset_index(drop=True)"
   ]
  },
  {
   "cell_type": "markdown",
   "metadata": {},
   "source": [
    "### Clean up city columns"
   ]
  },
  {
   "cell_type": "code",
   "execution_count": 31,
   "metadata": {},
   "outputs": [
    {
     "data": {
      "text/plain": [
       "array(['bstn', 'boston', nan, 'roslindlae', 'roxbury', 'mattapan',\n",
       "       'dorchester', 'btsn', 'allston', 'jamaica plain', 'east boston',\n",
       "       'charlestown', 'south boston', 'revere', 'brighton', 'bsnt',\n",
       "       'bstna', 'bston', 'palm springs', 'brookline', 'hyde park',\n",
       "       'jamaiaca plain', 'roslindale', 'west roxbury', 'everett',\n",
       "       'worcester', 's. boston', 'sommerville', 'milton', 'pembroke',\n",
       "       'holbrook', 'jamaicia plain', 's.boston', 'dor.', 'e boston',\n",
       "       'e.boston', 's boston', 'bostob', 'brockton', 'weymouth',\n",
       "       'dorchest', 'sbos', 'jp', 'chelsea', 'mission hill', 'charlestwon',\n",
       "       'jamacia plain', 'rox', 'robury', 'so boston', 'so. boston',\n",
       "       'dorcchester', 'chaarlestown', 'east bos', 'chalrestown',\n",
       "       'east bostn', 'dor', 'unkown', 'mt', 'andover', 'quincy',\n",
       "       'dorchster', 'south end', 'dedham', 'bst', 's bstn', 'dorchesterr',\n",
       "       'canton', 'south  boston', 'jamaiica plain', 'roxbury ma',\n",
       "       'e. boston', 'jamaica', '307', 'ddorchester', 'mattpan',\n",
       "       'jamaicia', 'hp', 'randolph', 'do', 'new york', 's. end',\n",
       "       'unknown', 'rx', 'malden', 'jamica plain', 'dorch', 'b', 'roxbuey',\n",
       "       'j.p.', 'so', 'waltham', 'bosotn', 'brln', 'roislindale', '2nd fl',\n",
       "       'bostn', 'c', 'basement', 'everet', 'roxbory', 'jamaica plaine',\n",
       "       'bostom'], dtype=object)"
      ]
     },
     "execution_count": 31,
     "metadata": {},
     "output_type": "execute_result"
    }
   ],
   "source": [
    "plc.city.unique()"
   ]
  },
  {
   "cell_type": "code",
   "execution_count": 32,
   "metadata": {},
   "outputs": [],
   "source": [
    "BOSTON = \"boston\"\n",
    "SOUTHIE = \"south boston\"\n",
    "DORCHESTER = \"dorchester\"\n",
    "CHARLESTOWN = \"charlestown\"\n",
    "JP = \"jamaica plain\"\n",
    "EASTIE = \"east boston\"\n",
    "MATTAPAN = \"mattapan\"\n",
    "ROXBURY = \"roxbury\"\n",
    "HYDEPARK = \"hyde park\"\n",
    "\n",
    "plc.city = plc.city.replace(\n",
    "        {\n",
    "            \"bstn\": BOSTON,\n",
    "            \"so.boston\": SOUTHIE,\n",
    "            \"dorcchester\": DORCHESTER,\n",
    "            \"chaarlestown\": CHARLESTOWN,\n",
    "            \"jp\": JP,\n",
    "            \"east bos\": EASTIE,\n",
    "            \"chalrestown\": CHARLESTOWN,\n",
    "            \"east bostn\": EASTIE,\n",
    "            \"dor\": DORCHESTER,\n",
    "            \"mt\": MATTAPAN,\n",
    "            \"s boston\": SOUTHIE,\n",
    "            \"dorchster\": DORCHESTER,\n",
    "            \"bst\": BOSTON,\n",
    "            \"s bstn\": SOUTHIE,\n",
    "            \"dorchesterr\": DORCHESTER,\n",
    "            \"jamaiica plain\": JP,\n",
    "            \"roxbury ma\": ROXBURY,\n",
    "            \"so boston\": SOUTHIE,\n",
    "            \"e. boston\": EASTIE,\n",
    "            \"jamaica\": JP,\n",
    "            \"ddorchester\": DORCHESTER,\n",
    "            \"mattpan\": MATTAPAN,\n",
    "            \"jamaicia\": JP,\n",
    "            \"s. boston\": SOUTHIE,\n",
    "            \"hp\": HYDEPARK,\n",
    "            \"dorchest\": DORCHESTER,\n",
    "            \"sbos\": SOUTHIE,\n",
    "            \"rox\": ROXBURY,\n",
    "            \"charlestwon\": CHARLESTOWN,\n",
    "            \"jamacia plain\": JP,\n",
    "            \"robury\": ROXBURY,\n",
    "            \"btsn\": BOSTON,\n",
    "            \"sommerville\": \"somerville\",\n",
    "            \"jamaicia plain\": JP,\n",
    "            \"s.boston\": SOUTHIE,\n",
    "            \"dor.\": DORCHESTER,\n",
    "            \"e boston\": EASTIE,\n",
    "            \"e.boston\": EASTIE,\n",
    "            \"bostob\": BOSTON,\n",
    "            \"roslindlae\": \"ROSLINDALE\",\n",
    "            \"bsnt\": BOSTON,\n",
    "            \"bstna\": BOSTON,\n",
    "            \"bston\": BOSTON,\n",
    "            \"jamaiaca plain\": JP,\n",
    "            \"so. boston\": SOUTHIE,\n",
    "            \"unkown\": \"unknown\",\n",
    "        })\n",
    "                           "
   ]
  },
  {
   "cell_type": "markdown",
   "metadata": {},
   "source": [
    "### Clean up age"
   ]
  },
  {
   "cell_type": "code",
   "execution_count": 33,
   "metadata": {
    "scrolled": true
   },
   "outputs": [
    {
     "data": {
      "text/plain": [
       "count    68899.000000\n",
       "mean        28.678109\n",
       "std         12.523940\n",
       "min         -4.000000\n",
       "25%         21.000000\n",
       "50%         26.000000\n",
       "75%         33.000000\n",
       "max        952.000000\n",
       "Name: age, dtype: float64"
      ]
     },
     "execution_count": 33,
     "metadata": {},
     "output_type": "execute_result"
    }
   ],
   "source": [
    "indvsl.age.describe()"
   ]
  },
  {
   "cell_type": "code",
   "execution_count": 34,
   "metadata": {},
   "outputs": [],
   "source": [
    "indvsl.age = indvsl.age.apply(\n",
    "    lambda x:\n",
    "        x if (x > 0) & (x < 100)\n",
    "        else np.nan\n",
    "    )"
   ]
  },
  {
   "cell_type": "markdown",
   "metadata": {},
   "source": [
    "### Merge skin tone column in mark34 with complexion column in new rms"
   ]
  },
  {
   "cell_type": "code",
   "execution_count": 35,
   "metadata": {},
   "outputs": [],
   "source": [
    "missing_complexion = indvsl.complexion.isnull()\n",
    "indvsl.loc[missing_complexion, \"complexion\"] = indvsl[missing_complexion][\"skin_tone\"]\n",
    "indvsl = indvsl.drop(columns=\"skin_tone\").reset_index(drop=True)"
   ]
  },
  {
   "cell_type": "markdown",
   "metadata": {},
   "source": [
    "### Reconcile race"
   ]
  },
  {
   "cell_type": "code",
   "execution_count": 36,
   "metadata": {},
   "outputs": [],
   "source": [
    "indvsl.race = indvsl.race.replace(\n",
    "        {\"american indian or alaskan native\": \"native american / alaskan native\"}\n",
    "    )"
   ]
  },
  {
   "cell_type": "markdown",
   "metadata": {},
   "source": [
    "### Correct state name"
   ]
  },
  {
   "cell_type": "code",
   "execution_count": 37,
   "metadata": {},
   "outputs": [],
   "source": [
    "plc.state = plc.state.replace({\"MX\": \"MA\"})"
   ]
  },
  {
   "cell_type": "markdown",
   "metadata": {},
   "source": [
    "### Reconcile stop duration "
   ]
  },
  {
   "cell_type": "code",
   "execution_count": 38,
   "metadata": {},
   "outputs": [
    {
     "data": {
      "text/plain": [
       "array(['five to ten minutes', 'ten to fifteen minutes',\n",
       "       'less than five minutes', 'thirty to forty-five minutes',\n",
       "       'fifteen to twenty minutes', nan, 'twenty-five to thirty minutes',\n",
       "       'forty-five to sixty minutes', 'twenty to twenty-five minutes',\n",
       "       'longer than two hours', 'one to two hours', 60.0, 0.0, 3.0, 14.0,\n",
       "       740.0, 5.0, 41.0, 10.0, 44.0, 15.0, 39.0, 31.0, 29.0, 21.0, 20.0,\n",
       "       28.0, 8.0, 40.0, 6.0, 25.0, 17.0, 46.0, 149.0, 23.0, 120.0, 7.0,\n",
       "       13.0, 18.0, 82.0, 2.0, 26.0, 9.0, 195.0, 32.0, 1.0, 144.0, 16.0,\n",
       "       30.0, 67745.0, 11.0, 48.0, 49.0, 55.0, 52.0, 19.0, 820.0, 107.0,\n",
       "       105.0, 4.0, 24.0, 1505.0, 200.0, 990.0, 45.0, 80.0, 1440.0, 43.0,\n",
       "       1035.0, 38.0, 58.0, 129.0, 11530.0, 47.0, 67578.0, 33.0, 68.0,\n",
       "       65.0, 131.0, 90.0, 595.0, 674.0, 285.0], dtype=object)"
      ]
     },
     "execution_count": 38,
     "metadata": {},
     "output_type": "execute_result"
    }
   ],
   "source": [
    "plc.stop_duration.unique()"
   ]
  },
  {
   "cell_type": "code",
   "execution_count": 39,
   "metadata": {},
   "outputs": [],
   "source": [
    "def bucket_stop_duration(d):\n",
    "        try:\n",
    "            d = int(d)\n",
    "        except:\n",
    "            return d\n",
    "\n",
    "        if d > 1000:\n",
    "            return np.nan\n",
    "        if d < 5:\n",
    "            return \"less than five minutes\"\n",
    "        if d < 10:\n",
    "            return \"five to ten minutes\"\n",
    "        if d < 15:\n",
    "            return \"ten to fifteen minutes\"\n",
    "        if d < 20:\n",
    "            return \"fifteen to twenty minutes\"\n",
    "        if d < 25:\n",
    "            return \"twenty to twenty-five minutes\"\n",
    "        if d < 30:\n",
    "            return \"twenty-five to thirty minutes\"\n",
    "        if d < 45:\n",
    "            return \"thirty to forty-five minutes\"\n",
    "        if d < 60:\n",
    "            return \"forty-five to sixty minutes\"\n",
    "        if d < 120:\n",
    "            return \"one to two hours\"\n",
    "        return \"longer than two hours\"\n",
    "\n",
    "plc.stop_duration = plc.stop_duration.apply(bucket_stop_duration)"
   ]
  },
  {
   "cell_type": "markdown",
   "metadata": {},
   "source": [
    "### Add a year column for future use"
   ]
  },
  {
   "cell_type": "code",
   "execution_count": 40,
   "metadata": {},
   "outputs": [],
   "source": [
    "# add year column\n",
    "plc[\"year\"] = plc.contact_date.dt.year.astype(str)\n",
    "indvsl[\"year\"] = indvsl.contact_date.dt.year.astype(str)"
   ]
  },
  {
   "cell_type": "markdown",
   "metadata": {},
   "source": [
    "### Reconcile NaN values"
   ]
  },
  {
   "cell_type": "code",
   "execution_count": 41,
   "metadata": {},
   "outputs": [],
   "source": [
    "replacements = {\"\": np.nan, \"null\": np.nan, \"none\": np.nan}\n",
    "plc = plc.replace(replacements)\n",
    "indvsl = indvsl.replace(replacements)"
   ]
  },
  {
   "cell_type": "markdown",
   "metadata": {},
   "source": [
    "### Calculate number of indivisals involved in a field contact"
   ]
  },
  {
   "cell_type": "code",
   "execution_count": 42,
   "metadata": {},
   "outputs": [],
   "source": [
    "num_of_indvsl = indvsl.groupby([\"fc_num\"]).count()[\"contact_date\"]\n",
    "plc[\"num_of_stopped_people\"] = plc[\"fc_num\"].apply(lambda x: num_of_indvsl[x])"
   ]
  },
  {
   "cell_type": "markdown",
   "metadata": {},
   "source": [
    "### Missing Values"
   ]
  },
  {
   "cell_type": "code",
   "execution_count": 43,
   "metadata": {},
   "outputs": [
    {
     "data": {
      "text/plain": [
       "<matplotlib.axes._subplots.AxesSubplot at 0x7fc938599350>"
      ]
     },
     "execution_count": 43,
     "metadata": {},
     "output_type": "execute_result"
    },
    {
     "data": {
      "image/png": "[encoded data removed]",
      "text/plain": [
       "<Figure size 1800x720 with 2 Axes>"
      ]
     },
     "metadata": {
      "needs_background": "light"
     },
     "output_type": "display_data"
    }
   ],
   "source": [
    "missingdata_plc = plc.columns[plc.isnull().any()].tolist()\n",
    "msno.matrix(plc[missingdata_plc])"
   ]
  },
  {
   "cell_type": "code",
   "execution_count": 44,
   "metadata": {},
   "outputs": [
    {
     "data": {
      "text/plain": [
       "<matplotlib.axes._subplots.AxesSubplot at 0x7fc93823eb10>"
      ]
     },
     "execution_count": 44,
     "metadata": {},
     "output_type": "execute_result"
    },
    {
     "data": {
      "image/png": "[encoded data removed]",
      "text/plain": [
       "<Figure size 1800x720 with 2 Axes>"
      ]
     },
     "metadata": {
      "needs_background": "light"
     },
     "output_type": "display_data"
    }
   ],
   "source": [
    "missingdata_indvsl = indvsl.columns[indvsl.isnull().any()].tolist()\n",
    "msno.matrix(indvsl[missingdata_indvsl])"
   ]
  },
  {
   "cell_type": "markdown",
   "metadata": {},
   "source": [
    "Based on the above missing value analysis, we can see that some columns are irrelevant or not useful to our analysis as there are too many missing values. I decided to remove the following columns:\n",
    "- deceased\n",
    "- license state\n",
    "- license type\n",
    "- key situations\n",
    "- weather"
   ]
  },
  {
   "cell_type": "code",
   "execution_count": 45,
   "metadata": {},
   "outputs": [],
   "source": [
    "indvsl.drop(['deceased', 'license_state', 'license_type'], axis='columns', inplace=True)\n",
    "plc.drop(['key_situations', 'weather'], axis='columns', inplace=True)"
   ]
  },
  {
   "cell_type": "code",
   "execution_count": 52,
   "metadata": {},
   "outputs": [
    {
     "data": {
      "text/plain": [
       "Index(['fc_num', 'contact_date', 'contact_officer', 'contact_officer_name',\n",
       "       'supervisor', 'supervisor_name', 'street', 'city', 'state', 'zip',\n",
       "       'summonsissued', 'stop_duration', 'circumstance', 'basis',\n",
       "       'vehicle_year', 'vehicle_state', 'vehicle_make', 'vehicle_model',\n",
       "       'vehicle_color', 'vehicle_style', 'vehicle_type', 'contact_reason',\n",
       "       'person_involved_in_frisked_or_searched', 'year',\n",
       "       'num_of_stopped_people'],\n",
       "      dtype='object')"
      ]
     },
     "execution_count": 52,
     "metadata": {},
     "output_type": "execute_result"
    }
   ],
   "source": [
    "plc.columns"
   ]
  },
  {
   "cell_type": "markdown",
   "metadata": {},
   "source": [
    "### FINALLY, save the files"
   ]
  },
  {
   "cell_type": "code",
   "execution_count": 61,
   "metadata": {},
   "outputs": [],
   "source": [
    "indvsl_merged = indvsl.merge(plc[[\"fc_num\", \"circumstance\", \"person_involved_in_frisked_or_searched\", \"zip\", \"street\"]], left_on = 'fc_num', right_on = 'fc_num')"
   ]
  },
  {
   "cell_type": "code",
   "execution_count": 62,
   "metadata": {},
   "outputs": [
    {
     "data": {
      "text/plain": [
       "Index(['recnum', 'fc_num', 'contact_date', 'sex', 'race', 'age', 'build',\n",
       "       'hair_style', 'complexion', 'ethnicity', 'otherclothing',\n",
       "       'person_frisked_or_searched', 'year', 'circumstance',\n",
       "       'person_involved_in_frisked_or_searched', 'zip', 'street'],\n",
       "      dtype='object')"
      ]
     },
     "execution_count": 62,
     "metadata": {},
     "output_type": "execute_result"
    }
   ],
   "source": [
    "indvsl_merged.columns"
   ]
  },
  {
   "cell_type": "code",
   "execution_count": 63,
   "metadata": {},
   "outputs": [],
   "source": [
    "plc.to_csv(\"cleaned_fc_data_2015_2019.csv\")\n",
    "indvsl_merged.to_csv(\"cleaned_fc_name_data_2015_2019.csv\")"
   ]
  }
 ],
 "metadata": {
  "celltoolbar": "Raw Cell Format",
  "kernelspec": {
   "display_name": "Python 3",
   "language": "python",
   "name": "python3"
  },
  "language_info": {
   "codemirror_mode": {
    "name": "ipython",
    "version": 3
   },
   "file_extension": ".py",
   "mimetype": "text/x-python",
   "name": "python",
   "nbconvert_exporter": "python",
   "pygments_lexer": "ipython3",
   "version": "3.7.6"
  }
 },
 "nbformat": 4,
 "nbformat_minor": 4
}
