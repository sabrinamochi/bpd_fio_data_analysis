{
 "cells": [
  {
   "cell_type": "markdown",
   "metadata": {},
   "source": [
    "# Racial disparities in police stops in Boston\n",
    " \n",
    "Boston Mayor Marty Walsh [declared racism a public health crisis in June 2020](https://www.npr.org/sections/live-updates-protests-for-racial-justice/2020/06/12/876327158/boston-mayor-declares-racism-a-public-health-crisis), committing to reallocating $3 million from the city's police department to public health accounts. Racism and discrimination in Boston is nothing new. "
   ]
  },
  {
   "cell_type": "markdown",
   "metadata": {},
   "source": [
    "Black drivers were more likely to be stopped by the Boston Police officers, [according to data](https://www.wgbh.org/news/local-news/2020/06/12/black-people-made-up-70-percent-of-boston-police-stops-department-data-show) collected by the Field Interrogation and Observation (FIO) program. The FIO records include interactions between the BPD and stopped drivers from 2011 to 2019. Through analyzing the records, we can get a sense of whether racial bias exists in stop decisions."
   ]
  },
  {
   "cell_type": "markdown",
   "metadata": {},
   "source": [
    "Data sources:\n",
    "- [BPD FIO data](https://data.boston.gov/dataset/boston-police-department-fio) (2011 - 2019, I'm using data between 2015 and 2019)"
   ]
  },
  {
   "cell_type": "markdown",
   "metadata": {},
   "source": [
    "Questions I want to answer:\n",
    "- Are there any biases in stop decisions? If yes, why(violation types)?\n",
    "- Bias in post-stop decisions: which stopped people were frisked?\n",
    "- Any significant changes after the legalization of recreational marijuana?\n",
    "- Do field contacts involved in certain officers lead to higher possibility of getting frisked/searched?\n",
    "- Different patterns in different neighborhoods?"
   ]
  },
  {
   "cell_type": "markdown",
   "metadata": {},
   "source": [
    "(Some of the following codes were referenced from the data analysis done by [@jacoblurye](https://github.com/jacoblurye/bpd-fio-data/blob/master/process_bpd_fio_data.ipynb). Thanks to him, my data cleaning process was less painful.)"
   ]
  },
  {
   "cell_type": "code",
   "execution_count": 1,
   "metadata": {},
   "outputs": [],
   "source": [
    "# import packages\n",
    "import pandas as pd\n",
    "import re\n",
    "import datetime\n",
    "import missingno as msno\n",
    "import numpy as np\n",
    "\n",
    "import matplotlib.pyplot as plt\n",
    "%matplotlib inline\n",
    "plt.style.use('bmh')"
   ]
  },
  {
   "cell_type": "code",
   "execution_count": 3,
   "metadata": {},
   "outputs": [],
   "source": [
    "# load in datasets from 2015 to 2019\n",
    "# there are two kinds of datasets - \n",
    "# field contacts data list each contact between BPD and one or more individuals\n",
    "# field contacts name data list each individual involved in these contacts\n",
    "\n",
    "ind_path191 = 'data/bpd/rms_fieldcontacts_name_for_public_2019.csv'\n",
    "pol_path191 = 'data/bpd/rms_fieldcontacts_for_public_2019.csv'\n",
    "ind_path192 = 'data/bpd/mark43_fieldcontacts_name_for_public_2019.csv'\n",
    "pol_path192 = 'data/bpd/mark43_fieldcontacts_for_public_20192.csv'\n",
    "ind_path18 = 'data/bpd/rms_fieldcontacts_name_for_public_2018_202003111443.csv'\n",
    "pol_path18 = 'data/bpd/rms_fieldcontacts_2018.csv'\n",
    "ind_path17 = 'data/bpd/rms_fieldcontacts_name_for_public_2017_202003111442.csv'\n",
    "pol_path17 = 'data/bpd/rms_fieldcontacts_for_public_2017_202003111424.csv'\n",
    "ind_path16 = 'data/bpd/fieldcontactnameforpublic2016.csv'\n",
    "pol_path16 = 'data/bpd/fieldcontactforpublic2016.csv'\n",
    "ind_path15 = 'data/bpd/fieldcontactnameforpublic2015.csv'\n",
    "pol_path15 = 'data/bpd/fieldcontactforpublic2015.csv'\n",
    "# pathB15 = 'data/bpd/boston-police-department-fio.csv'\n",
    "\n",
    "ind_files = [ind_path191, ind_path192, ind_path18, ind_path17, ind_path16, ind_path15]\n",
    "pol_files = [pol_path191, pol_path192, pol_path18, pol_path17, pol_path16, pol_path15]\n",
    "\n",
    "def read_concat_csv(files):\n",
    "    li = []\n",
    "\n",
    "    for filename in files:\n",
    "        df = pd.read_csv(filename, index_col=None, header=0)\n",
    "        li.append(df)\n",
    "\n",
    "    concated = pd.concat(li, axis=0, ignore_index=True)\n",
    "\n",
    "    return concated\n",
    "\n",
    "\n",
    "indvsl = read_concat_csv(ind_files)\n",
    "plc = read_concat_csv(pol_files)"
   ]
  },
  {
   "cell_type": "markdown",
   "metadata": {},
   "source": [
    "#### !!!IMPORTANT MSG from the BPD!!!\n",
    "\n",
    "\"While these two tables align on the field contact number (fc_num) column, it is not methodologically correct to join the two datasets for the purpose of generating aggregate statistics on columns from the FieldContact table. Doing so would lead to incorrect estimates stemming from contacts with multiple individuals. As noted in the Data Key (New RMS) file, several of the columns in the FieldContact table apply to the contact as a whole, but may not necessarily apply to each individual involved in the contact.\" These include:\n",
    "\n",
    "- frisked\n",
    "- searchperson\n",
    "- summonsissued\n",
    "- circumstances\n",
    "- basis\n",
    "- contact_reason\n"
   ]
  },
  {
   "cell_type": "markdown",
   "metadata": {},
   "source": [
    "# 1.Data Cleaning"
   ]
  },
  {
   "cell_type": "markdown",
   "metadata": {},
   "source": [
    "### Deal with the frisk/search columns in field contact (fc) dataset (a.k.a plc)"
   ]
  },
  {
   "cell_type": "markdown",
   "metadata": {},
   "source": [
    "Something worth noting here is that the \"frisked\" and \"searchperson\" in the field contacts data, which was generated from the \"New RMS\" system, indicate at least one indivisual was frisked or searched in the incident. However, the fc data generated from MARK43 system (between SEPT 29 and DEC 31 2019) doesn't contain those two columns. The good news is that the fc name (a.k.a. indvsl) data from MARK43 documented the frisk/search value at an indivisual level, indicating whether the indivisual was frisked or searched during a field contact. "
   ]
  },
  {
   "cell_type": "code",
   "execution_count": 4,
   "metadata": {},
   "outputs": [
    {
     "data": {
      "text/plain": [
       "Index(['fc_num', 'contact_date', 'contact_officer', 'contact_officer_name',\n",
       "       'supervisor', 'supervisor_name', 'street', 'city', 'state', 'zip',\n",
       "       'frisked', 'searchperson', 'searchvehicle', 'summonsissued',\n",
       "       'stop_duration', 'circumstance', 'basis', 'vehicle_year',\n",
       "       'vehicle_state', 'vehicle_make', 'vehicle_model', 'vehicle_color',\n",
       "       'vehicle_style', 'vehicle_type', 'contact_reason', 'key_situations',\n",
       "       'narrative', 'weather', 'streetaddr'],\n",
       "      dtype='object')"
      ]
     },
     "execution_count": 4,
     "metadata": {},
     "output_type": "execute_result"
    }
   ],
   "source": [
    "# columns included in plc data\n",
    "plc.columns"
   ]
  },
  {
   "cell_type": "code",
   "execution_count": 5,
   "metadata": {},
   "outputs": [
    {
     "data": {
      "text/plain": [
       "(44105, 29)"
      ]
     },
     "execution_count": 5,
     "metadata": {},
     "output_type": "execute_result"
    }
   ],
   "source": [
    "# number of rows and columns\n",
    "plc.shape"
   ]
  },
  {
   "cell_type": "code",
   "execution_count": 6,
   "metadata": {
    "scrolled": true
   },
   "outputs": [
    {
     "data": {
      "text/html": [
       "<div>\n",
       "<style scoped>\n",
       "    .dataframe tbody tr th:only-of-type {\n",
       "        vertical-align: middle;\n",
       "    }\n",
       "\n",
       "    .dataframe tbody tr th {\n",
       "        vertical-align: top;\n",
       "    }\n",
       "\n",
       "    .dataframe thead th {\n",
       "        text-align: right;\n",
       "    }\n",
       "</style>\n",
       "<table border=\"1\" class=\"dataframe\">\n",
       "  <thead>\n",
       "    <tr style=\"text-align: right;\">\n",
       "      <th></th>\n",
       "      <th>fc_num</th>\n",
       "      <th>contact_date</th>\n",
       "      <th>contact_officer</th>\n",
       "      <th>contact_officer_name</th>\n",
       "      <th>supervisor</th>\n",
       "      <th>supervisor_name</th>\n",
       "      <th>street</th>\n",
       "      <th>city</th>\n",
       "      <th>state</th>\n",
       "      <th>zip</th>\n",
       "      <th>...</th>\n",
       "      <th>vehicle_make</th>\n",
       "      <th>vehicle_model</th>\n",
       "      <th>vehicle_color</th>\n",
       "      <th>vehicle_style</th>\n",
       "      <th>vehicle_type</th>\n",
       "      <th>contact_reason</th>\n",
       "      <th>key_situations</th>\n",
       "      <th>narrative</th>\n",
       "      <th>weather</th>\n",
       "      <th>streetaddr</th>\n",
       "    </tr>\n",
       "  </thead>\n",
       "  <tbody>\n",
       "    <tr>\n",
       "      <th>6639</th>\n",
       "      <td>FC19000069</td>\n",
       "      <td>2019-10-01 0:00:00</td>\n",
       "      <td>110128</td>\n",
       "      <td>DASILVA, MOSES-JOSE</td>\n",
       "      <td>11586.0</td>\n",
       "      <td>CHRISTOPHER CARROLL</td>\n",
       "      <td>E SPRINGFIELD ST</td>\n",
       "      <td>BOSTON</td>\n",
       "      <td>MA</td>\n",
       "      <td>2118</td>\n",
       "      <td>...</td>\n",
       "      <td>NaN</td>\n",
       "      <td>NaN</td>\n",
       "      <td>NaN</td>\n",
       "      <td>NaN</td>\n",
       "      <td>NaN</td>\n",
       "      <td>NaN</td>\n",
       "      <td>Homeless, Drugs</td>\n",
       "      <td>Officer responded to a call for for a two male...</td>\n",
       "      <td>Cloudy/Partly Cloudy</td>\n",
       "      <td>NaN</td>\n",
       "    </tr>\n",
       "    <tr>\n",
       "      <th>6640</th>\n",
       "      <td>FC19000069</td>\n",
       "      <td>2019-10-01 0:00:00</td>\n",
       "      <td>110128</td>\n",
       "      <td>DASILVA, MOSES-JOSE</td>\n",
       "      <td>11586.0</td>\n",
       "      <td>CHRISTOPHER CARROLL</td>\n",
       "      <td>E SPRINGFIELD ST</td>\n",
       "      <td>BOSTON</td>\n",
       "      <td>MA</td>\n",
       "      <td>2118</td>\n",
       "      <td>...</td>\n",
       "      <td>NaN</td>\n",
       "      <td>NaN</td>\n",
       "      <td>NaN</td>\n",
       "      <td>NaN</td>\n",
       "      <td>NaN</td>\n",
       "      <td>NaN</td>\n",
       "      <td>Homeless, Drugs</td>\n",
       "      <td>Officer responded to a call for for a two male...</td>\n",
       "      <td>Cloudy/Partly Cloudy</td>\n",
       "      <td>NaN</td>\n",
       "    </tr>\n",
       "    <tr>\n",
       "      <th>6653</th>\n",
       "      <td>FC19000191</td>\n",
       "      <td>2019-10-04 21:10:00</td>\n",
       "      <td>126574</td>\n",
       "      <td>O'DWYER, MICHAEL</td>\n",
       "      <td>75661.0</td>\n",
       "      <td>JUANA HERNANDEZ</td>\n",
       "      <td>NaN</td>\n",
       "      <td>ROXBURY</td>\n",
       "      <td>MA</td>\n",
       "      <td>2119</td>\n",
       "      <td>...</td>\n",
       "      <td>NaN</td>\n",
       "      <td>Elantra</td>\n",
       "      <td>BLUE</td>\n",
       "      <td>4 Door, Sedan</td>\n",
       "      <td>Passenger Car/ Automobile</td>\n",
       "      <td>NaN</td>\n",
       "      <td>Gang</td>\n",
       "      <td>orchard park associates XXX andXXX along with ...</td>\n",
       "      <td>Clear (Night)</td>\n",
       "      <td>NaN</td>\n",
       "    </tr>\n",
       "    <tr>\n",
       "      <th>6654</th>\n",
       "      <td>FC19000191</td>\n",
       "      <td>2019-10-04 21:10:00</td>\n",
       "      <td>126574</td>\n",
       "      <td>O'DWYER, MICHAEL</td>\n",
       "      <td>75661.0</td>\n",
       "      <td>JUANA HERNANDEZ</td>\n",
       "      <td>NaN</td>\n",
       "      <td>ROXBURY</td>\n",
       "      <td>MA</td>\n",
       "      <td>2119</td>\n",
       "      <td>...</td>\n",
       "      <td>NaN</td>\n",
       "      <td>Elantra</td>\n",
       "      <td>BLUE</td>\n",
       "      <td>4 Door, Sedan</td>\n",
       "      <td>Passenger Car/ Automobile</td>\n",
       "      <td>NaN</td>\n",
       "      <td>Gang</td>\n",
       "      <td>orchard park associates XXX andXXX along with ...</td>\n",
       "      <td>Clear (Night)</td>\n",
       "      <td>NaN</td>\n",
       "    </tr>\n",
       "    <tr>\n",
       "      <th>6667</th>\n",
       "      <td>FC19000323</td>\n",
       "      <td>2019-10-08 9:12:00</td>\n",
       "      <td>12020</td>\n",
       "      <td>HARLOW, DANIEL</td>\n",
       "      <td>11586.0</td>\n",
       "      <td>CHRISTOPHER CARROLL</td>\n",
       "      <td>MELNEA CASS BLVD</td>\n",
       "      <td>BOSTON</td>\n",
       "      <td>MA</td>\n",
       "      <td>2119</td>\n",
       "      <td>...</td>\n",
       "      <td>NaN</td>\n",
       "      <td>NaN</td>\n",
       "      <td>NaN</td>\n",
       "      <td>NaN</td>\n",
       "      <td>NaN</td>\n",
       "      <td>NaN</td>\n",
       "      <td>Homeless, Drugs</td>\n",
       "      <td>At about 0918 on October 8, 2019 Officers resp...</td>\n",
       "      <td>Cloudy/Partly Cloudy</td>\n",
       "      <td>NaN</td>\n",
       "    </tr>\n",
       "    <tr>\n",
       "      <th>6669</th>\n",
       "      <td>FC19000323</td>\n",
       "      <td>2019-10-08 9:12:00</td>\n",
       "      <td>12020</td>\n",
       "      <td>HARLOW, DANIEL</td>\n",
       "      <td>11586.0</td>\n",
       "      <td>CHRISTOPHER CARROLL</td>\n",
       "      <td>MELNEA CASS BLVD</td>\n",
       "      <td>BOSTON</td>\n",
       "      <td>MA</td>\n",
       "      <td>2119</td>\n",
       "      <td>...</td>\n",
       "      <td>NaN</td>\n",
       "      <td>NaN</td>\n",
       "      <td>NaN</td>\n",
       "      <td>NaN</td>\n",
       "      <td>NaN</td>\n",
       "      <td>NaN</td>\n",
       "      <td>Homeless, Drugs</td>\n",
       "      <td>At about 0918 on October 8, 2019 Officers resp...</td>\n",
       "      <td>Cloudy/Partly Cloudy</td>\n",
       "      <td>NaN</td>\n",
       "    </tr>\n",
       "    <tr>\n",
       "      <th>6800</th>\n",
       "      <td>FC19001601</td>\n",
       "      <td>2019-12-04 23:01:00</td>\n",
       "      <td>116222</td>\n",
       "      <td>RAMOS, ANTOINE</td>\n",
       "      <td>10163.0</td>\n",
       "      <td>THOMAS PRATT</td>\n",
       "      <td>NaN</td>\n",
       "      <td>BOSTON</td>\n",
       "      <td>MA</td>\n",
       "      <td>2120</td>\n",
       "      <td>...</td>\n",
       "      <td>NaN</td>\n",
       "      <td>NaN</td>\n",
       "      <td>NaN</td>\n",
       "      <td>NaN</td>\n",
       "      <td>NaN</td>\n",
       "      <td>NaN</td>\n",
       "      <td>Gang</td>\n",
       "      <td>Youth Violence Strike Force Firearms Invest.\\n...</td>\n",
       "      <td>Clear (Night)</td>\n",
       "      <td>NaN</td>\n",
       "    </tr>\n",
       "    <tr>\n",
       "      <th>6801</th>\n",
       "      <td>FC19001601</td>\n",
       "      <td>2019-12-04 23:01:00</td>\n",
       "      <td>116222</td>\n",
       "      <td>RAMOS, ANTOINE</td>\n",
       "      <td>10163.0</td>\n",
       "      <td>THOMAS PRATT</td>\n",
       "      <td>NaN</td>\n",
       "      <td>BOSTON</td>\n",
       "      <td>MA</td>\n",
       "      <td>2120</td>\n",
       "      <td>...</td>\n",
       "      <td>NaN</td>\n",
       "      <td>NaN</td>\n",
       "      <td>NaN</td>\n",
       "      <td>NaN</td>\n",
       "      <td>NaN</td>\n",
       "      <td>NaN</td>\n",
       "      <td>Gang</td>\n",
       "      <td>Youth Violence Strike Force Firearms Invest.\\n...</td>\n",
       "      <td>Clear (Night)</td>\n",
       "      <td>NaN</td>\n",
       "    </tr>\n",
       "    <tr>\n",
       "      <th>6802</th>\n",
       "      <td>FC19001601</td>\n",
       "      <td>2019-12-04 23:01:00</td>\n",
       "      <td>116222</td>\n",
       "      <td>RAMOS, ANTOINE</td>\n",
       "      <td>10163.0</td>\n",
       "      <td>THOMAS PRATT</td>\n",
       "      <td>NaN</td>\n",
       "      <td>BOSTON</td>\n",
       "      <td>MA</td>\n",
       "      <td>2120</td>\n",
       "      <td>...</td>\n",
       "      <td>NaN</td>\n",
       "      <td>NaN</td>\n",
       "      <td>NaN</td>\n",
       "      <td>NaN</td>\n",
       "      <td>NaN</td>\n",
       "      <td>NaN</td>\n",
       "      <td>Gang</td>\n",
       "      <td>Youth Violence Strike Force Firearms Invest.\\n...</td>\n",
       "      <td>Clear (Night)</td>\n",
       "      <td>NaN</td>\n",
       "    </tr>\n",
       "    <tr>\n",
       "      <th>6899</th>\n",
       "      <td>FC19000558</td>\n",
       "      <td>2019-10-15 16:40:00</td>\n",
       "      <td>99776</td>\n",
       "      <td>LEVICHEV, VLADIMIR</td>\n",
       "      <td>81410.0</td>\n",
       "      <td>MATTHEW RYAN</td>\n",
       "      <td>NaN</td>\n",
       "      <td>BOSTON</td>\n",
       "      <td>MA</td>\n",
       "      <td>2122</td>\n",
       "      <td>...</td>\n",
       "      <td>NaN</td>\n",
       "      <td>Passat</td>\n",
       "      <td>Gray</td>\n",
       "      <td>4 Door, Sedan</td>\n",
       "      <td>Passenger Car/ Automobile</td>\n",
       "      <td>NaN</td>\n",
       "      <td>NaN</td>\n",
       "      <td>OFFICER OBSERVED ABOVE VEHICLE OPERATED BY XXX...</td>\n",
       "      <td>Cloudy/Partly Cloudy</td>\n",
       "      <td>NaN</td>\n",
       "    </tr>\n",
       "    <tr>\n",
       "      <th>6900</th>\n",
       "      <td>FC19000558</td>\n",
       "      <td>2019-10-15 16:40:00</td>\n",
       "      <td>99776</td>\n",
       "      <td>LEVICHEV, VLADIMIR</td>\n",
       "      <td>81410.0</td>\n",
       "      <td>MATTHEW RYAN</td>\n",
       "      <td>NaN</td>\n",
       "      <td>BOSTON</td>\n",
       "      <td>MA</td>\n",
       "      <td>2122</td>\n",
       "      <td>...</td>\n",
       "      <td>NaN</td>\n",
       "      <td>Passat</td>\n",
       "      <td>Gray</td>\n",
       "      <td>4 Door, Sedan</td>\n",
       "      <td>Passenger Car/ Automobile</td>\n",
       "      <td>NaN</td>\n",
       "      <td>NaN</td>\n",
       "      <td>OFFICER OBSERVED ABOVE VEHICLE OPERATED BY XXX...</td>\n",
       "      <td>Cloudy/Partly Cloudy</td>\n",
       "      <td>NaN</td>\n",
       "    </tr>\n",
       "    <tr>\n",
       "      <th>7021</th>\n",
       "      <td>FC19001690</td>\n",
       "      <td>2019-12-12 6:30:00</td>\n",
       "      <td>106709</td>\n",
       "      <td>JOSEPH, KENNY</td>\n",
       "      <td>8688.0</td>\n",
       "      <td>JOHN DORIS</td>\n",
       "      <td>NaN</td>\n",
       "      <td>CHARLESTOWN</td>\n",
       "      <td>MA</td>\n",
       "      <td>2129</td>\n",
       "      <td>...</td>\n",
       "      <td>NaN</td>\n",
       "      <td>NaN</td>\n",
       "      <td>NaN</td>\n",
       "      <td>NaN</td>\n",
       "      <td>NaN</td>\n",
       "      <td>NaN</td>\n",
       "      <td>NaN</td>\n",
       "      <td>Officer stopped XXX(XX/XX/XXXX who matched the...</td>\n",
       "      <td>Cloudy/Partly Cloudy</td>\n",
       "      <td>NaN</td>\n",
       "    </tr>\n",
       "    <tr>\n",
       "      <th>7022</th>\n",
       "      <td>FC19001690</td>\n",
       "      <td>2019-12-12 6:30:00</td>\n",
       "      <td>106709</td>\n",
       "      <td>JOSEPH, KENNY</td>\n",
       "      <td>8688.0</td>\n",
       "      <td>JOHN DORIS</td>\n",
       "      <td>NaN</td>\n",
       "      <td>CHARLESTOWN</td>\n",
       "      <td>MA</td>\n",
       "      <td>2129</td>\n",
       "      <td>...</td>\n",
       "      <td>NaN</td>\n",
       "      <td>NaN</td>\n",
       "      <td>NaN</td>\n",
       "      <td>NaN</td>\n",
       "      <td>NaN</td>\n",
       "      <td>NaN</td>\n",
       "      <td>NaN</td>\n",
       "      <td>Officer stopped XXX(XX/XX/XXXX who matched the...</td>\n",
       "      <td>Cloudy/Partly Cloudy</td>\n",
       "      <td>NaN</td>\n",
       "    </tr>\n",
       "    <tr>\n",
       "      <th>7301</th>\n",
       "      <td>FC19000265</td>\n",
       "      <td>2019-10-06 22:07:00</td>\n",
       "      <td>116222</td>\n",
       "      <td>RAMOS, ANTOINE</td>\n",
       "      <td>95168.0</td>\n",
       "      <td>PATRICK BYRNE</td>\n",
       "      <td>MCLELLAN ST</td>\n",
       "      <td>BOSTON</td>\n",
       "      <td>MA</td>\n",
       "      <td>2121</td>\n",
       "      <td>...</td>\n",
       "      <td>NaN</td>\n",
       "      <td>Accord</td>\n",
       "      <td>NaN</td>\n",
       "      <td>4 Door, Sedan</td>\n",
       "      <td>Passenger Car/ Automobile</td>\n",
       "      <td>NaN</td>\n",
       "      <td>Gang</td>\n",
       "      <td>Youth Violence Strike Force Invest.\\n\\nVK-16 (...</td>\n",
       "      <td>Clear (Night)</td>\n",
       "      <td>NaN</td>\n",
       "    </tr>\n",
       "    <tr>\n",
       "      <th>7302</th>\n",
       "      <td>FC19000265</td>\n",
       "      <td>2019-10-06 22:07:00</td>\n",
       "      <td>116222</td>\n",
       "      <td>RAMOS, ANTOINE</td>\n",
       "      <td>95168.0</td>\n",
       "      <td>PATRICK BYRNE</td>\n",
       "      <td>MCLELLAN ST</td>\n",
       "      <td>BOSTON</td>\n",
       "      <td>MA</td>\n",
       "      <td>2121</td>\n",
       "      <td>...</td>\n",
       "      <td>NaN</td>\n",
       "      <td>Accord</td>\n",
       "      <td>NaN</td>\n",
       "      <td>4 Door, Sedan</td>\n",
       "      <td>Passenger Car/ Automobile</td>\n",
       "      <td>NaN</td>\n",
       "      <td>Gang</td>\n",
       "      <td>Youth Violence Strike Force Invest.\\n\\nVK-16 (...</td>\n",
       "      <td>Clear (Night)</td>\n",
       "      <td>NaN</td>\n",
       "    </tr>\n",
       "    <tr>\n",
       "      <th>7306</th>\n",
       "      <td>FC19000276</td>\n",
       "      <td>2019-10-07 19:10:00</td>\n",
       "      <td>135956</td>\n",
       "      <td>HEGERICH, DANIEL</td>\n",
       "      <td>11683.0</td>\n",
       "      <td>JOHN FITZGERALD</td>\n",
       "      <td>LORNE ST</td>\n",
       "      <td>BOSTON</td>\n",
       "      <td>MA</td>\n",
       "      <td>2124</td>\n",
       "      <td>...</td>\n",
       "      <td>NaN</td>\n",
       "      <td>NaN</td>\n",
       "      <td>NaN</td>\n",
       "      <td>NaN</td>\n",
       "      <td>NaN</td>\n",
       "      <td>NaN</td>\n",
       "      <td>NaN</td>\n",
       "      <td>While responding to a call for shots fired in ...</td>\n",
       "      <td>NaN</td>\n",
       "      <td>NaN</td>\n",
       "    </tr>\n",
       "    <tr>\n",
       "      <th>7307</th>\n",
       "      <td>FC19000276</td>\n",
       "      <td>2019-10-07 19:10:00</td>\n",
       "      <td>135956</td>\n",
       "      <td>HEGERICH, DANIEL</td>\n",
       "      <td>11683.0</td>\n",
       "      <td>JOHN FITZGERALD</td>\n",
       "      <td>LORNE ST</td>\n",
       "      <td>BOSTON</td>\n",
       "      <td>MA</td>\n",
       "      <td>2124</td>\n",
       "      <td>...</td>\n",
       "      <td>NaN</td>\n",
       "      <td>NaN</td>\n",
       "      <td>NaN</td>\n",
       "      <td>NaN</td>\n",
       "      <td>NaN</td>\n",
       "      <td>NaN</td>\n",
       "      <td>NaN</td>\n",
       "      <td>While responding to a call for shots fired in ...</td>\n",
       "      <td>NaN</td>\n",
       "      <td>NaN</td>\n",
       "    </tr>\n",
       "    <tr>\n",
       "      <th>7308</th>\n",
       "      <td>FC19000276</td>\n",
       "      <td>2019-10-07 19:10:00</td>\n",
       "      <td>135956</td>\n",
       "      <td>HEGERICH, DANIEL</td>\n",
       "      <td>11683.0</td>\n",
       "      <td>JOHN FITZGERALD</td>\n",
       "      <td>LORNE ST</td>\n",
       "      <td>BOSTON</td>\n",
       "      <td>MA</td>\n",
       "      <td>2124</td>\n",
       "      <td>...</td>\n",
       "      <td>NaN</td>\n",
       "      <td>NaN</td>\n",
       "      <td>NaN</td>\n",
       "      <td>NaN</td>\n",
       "      <td>NaN</td>\n",
       "      <td>NaN</td>\n",
       "      <td>NaN</td>\n",
       "      <td>While responding to a call for shots fired in ...</td>\n",
       "      <td>NaN</td>\n",
       "      <td>NaN</td>\n",
       "    </tr>\n",
       "    <tr>\n",
       "      <th>7327</th>\n",
       "      <td>FC19000470</td>\n",
       "      <td>2019-10-14 0:00:00</td>\n",
       "      <td>126566</td>\n",
       "      <td>FREEDMAN, RICHARD</td>\n",
       "      <td>12283.0</td>\n",
       "      <td>JAMES TARANTINO</td>\n",
       "      <td>SEAVER ST</td>\n",
       "      <td>ROXBURY</td>\n",
       "      <td>MA</td>\n",
       "      <td>2121</td>\n",
       "      <td>...</td>\n",
       "      <td>NaN</td>\n",
       "      <td>Rdx</td>\n",
       "      <td>GRA</td>\n",
       "      <td>NaN</td>\n",
       "      <td>Suv (sport Utility Vehicle)</td>\n",
       "      <td>NaN</td>\n",
       "      <td>Shots Fired</td>\n",
       "      <td>While taping off crime scene for a person shot...</td>\n",
       "      <td>Clear (Night)</td>\n",
       "      <td>NaN</td>\n",
       "    </tr>\n",
       "    <tr>\n",
       "      <th>7328</th>\n",
       "      <td>FC19000470</td>\n",
       "      <td>2019-10-14 0:00:00</td>\n",
       "      <td>126566</td>\n",
       "      <td>FREEDMAN, RICHARD</td>\n",
       "      <td>12283.0</td>\n",
       "      <td>JAMES TARANTINO</td>\n",
       "      <td>SEAVER ST</td>\n",
       "      <td>ROXBURY</td>\n",
       "      <td>MA</td>\n",
       "      <td>2121</td>\n",
       "      <td>...</td>\n",
       "      <td>NaN</td>\n",
       "      <td>Rdx</td>\n",
       "      <td>GRA</td>\n",
       "      <td>NaN</td>\n",
       "      <td>Suv (sport Utility Vehicle)</td>\n",
       "      <td>NaN</td>\n",
       "      <td>Shots Fired</td>\n",
       "      <td>While taping off crime scene for a person shot...</td>\n",
       "      <td>Clear (Night)</td>\n",
       "      <td>NaN</td>\n",
       "    </tr>\n",
       "    <tr>\n",
       "      <th>7369</th>\n",
       "      <td>FC19000917</td>\n",
       "      <td>2019-10-31 20:50:00</td>\n",
       "      <td>116945</td>\n",
       "      <td>KENNEDY, CHRISTOPHER</td>\n",
       "      <td>10090.0</td>\n",
       "      <td>SEAN SMITH</td>\n",
       "      <td>NaN</td>\n",
       "      <td>BOSTON</td>\n",
       "      <td>MA</td>\n",
       "      <td>2124</td>\n",
       "      <td>...</td>\n",
       "      <td>NaN</td>\n",
       "      <td>Altima</td>\n",
       "      <td>Black</td>\n",
       "      <td>4 Door, Sedan</td>\n",
       "      <td>Passenger Car/ Automobile</td>\n",
       "      <td>NaN</td>\n",
       "      <td>NaN</td>\n",
       "      <td>YVSF Officers stopped MA RegXXX at Melville an...</td>\n",
       "      <td>Raining</td>\n",
       "      <td>NaN</td>\n",
       "    </tr>\n",
       "    <tr>\n",
       "      <th>7370</th>\n",
       "      <td>FC19000917</td>\n",
       "      <td>2019-10-31 20:50:00</td>\n",
       "      <td>116945</td>\n",
       "      <td>KENNEDY, CHRISTOPHER</td>\n",
       "      <td>10090.0</td>\n",
       "      <td>SEAN SMITH</td>\n",
       "      <td>NaN</td>\n",
       "      <td>BOSTON</td>\n",
       "      <td>MA</td>\n",
       "      <td>2124</td>\n",
       "      <td>...</td>\n",
       "      <td>NaN</td>\n",
       "      <td>Altima</td>\n",
       "      <td>Black</td>\n",
       "      <td>4 Door, Sedan</td>\n",
       "      <td>Passenger Car/ Automobile</td>\n",
       "      <td>NaN</td>\n",
       "      <td>NaN</td>\n",
       "      <td>YVSF Officers stopped MA RegXXX at Melville an...</td>\n",
       "      <td>Raining</td>\n",
       "      <td>NaN</td>\n",
       "    </tr>\n",
       "    <tr>\n",
       "      <th>7450</th>\n",
       "      <td>FC19001627</td>\n",
       "      <td>2019-12-07 2:00:00</td>\n",
       "      <td>116948</td>\n",
       "      <td>WALSH, JAMES</td>\n",
       "      <td>10166.0</td>\n",
       "      <td>MICHAEL TALBOT</td>\n",
       "      <td>LINCOLN ST</td>\n",
       "      <td>BOSTON</td>\n",
       "      <td>MA</td>\n",
       "      <td>2111</td>\n",
       "      <td>...</td>\n",
       "      <td>NaN</td>\n",
       "      <td>Focus</td>\n",
       "      <td>Gray</td>\n",
       "      <td>4 Door, Sedan</td>\n",
       "      <td>Passenger Car/ Automobile</td>\n",
       "      <td>NaN</td>\n",
       "      <td>Gang, Licensed Premise</td>\n",
       "      <td>On 12/7/19, Saturday morning about 2:00am at 1...</td>\n",
       "      <td>Clear (Night)</td>\n",
       "      <td>NaN</td>\n",
       "    </tr>\n",
       "    <tr>\n",
       "      <th>7451</th>\n",
       "      <td>FC19001627</td>\n",
       "      <td>2019-12-07 2:00:00</td>\n",
       "      <td>116948</td>\n",
       "      <td>WALSH, JAMES</td>\n",
       "      <td>10166.0</td>\n",
       "      <td>MICHAEL TALBOT</td>\n",
       "      <td>LINCOLN ST</td>\n",
       "      <td>BOSTON</td>\n",
       "      <td>MA</td>\n",
       "      <td>2111</td>\n",
       "      <td>...</td>\n",
       "      <td>NaN</td>\n",
       "      <td>Focus</td>\n",
       "      <td>Gray</td>\n",
       "      <td>4 Door, Sedan</td>\n",
       "      <td>Passenger Car/ Automobile</td>\n",
       "      <td>NaN</td>\n",
       "      <td>Gang, Licensed Premise</td>\n",
       "      <td>On 12/7/19, Saturday morning about 2:00am at 1...</td>\n",
       "      <td>Clear (Night)</td>\n",
       "      <td>NaN</td>\n",
       "    </tr>\n",
       "    <tr>\n",
       "      <th>7452</th>\n",
       "      <td>FC19001627</td>\n",
       "      <td>2019-12-07 2:00:00</td>\n",
       "      <td>116948</td>\n",
       "      <td>WALSH, JAMES</td>\n",
       "      <td>10166.0</td>\n",
       "      <td>MICHAEL TALBOT</td>\n",
       "      <td>LINCOLN ST</td>\n",
       "      <td>BOSTON</td>\n",
       "      <td>MA</td>\n",
       "      <td>2111</td>\n",
       "      <td>...</td>\n",
       "      <td>NaN</td>\n",
       "      <td>Focus</td>\n",
       "      <td>Gray</td>\n",
       "      <td>4 Door, Sedan</td>\n",
       "      <td>Passenger Car/ Automobile</td>\n",
       "      <td>NaN</td>\n",
       "      <td>Gang, Licensed Premise</td>\n",
       "      <td>On 12/7/19, Saturday morning about 2:00am at 1...</td>\n",
       "      <td>Clear (Night)</td>\n",
       "      <td>NaN</td>\n",
       "    </tr>\n",
       "    <tr>\n",
       "      <th>7523</th>\n",
       "      <td>FC19000329</td>\n",
       "      <td>2019-10-09 9:45:00</td>\n",
       "      <td>108602</td>\n",
       "      <td>POKRANT, DREW</td>\n",
       "      <td>8657.0</td>\n",
       "      <td>MICHAEL LOCKE</td>\n",
       "      <td>HYDE PARK AVE</td>\n",
       "      <td>HYDE PARK</td>\n",
       "      <td>MA</td>\n",
       "      <td>2136</td>\n",
       "      <td>...</td>\n",
       "      <td>NaN</td>\n",
       "      <td>NaN</td>\n",
       "      <td>NaN</td>\n",
       "      <td>NaN</td>\n",
       "      <td>NaN</td>\n",
       "      <td>NaN</td>\n",
       "      <td>Juvenile, Gang</td>\n",
       "      <td>About 9:30 am on Wednesday, October 9, 2019, S...</td>\n",
       "      <td>Cloudy/Partly Cloudy</td>\n",
       "      <td>NaN</td>\n",
       "    </tr>\n",
       "    <tr>\n",
       "      <th>7524</th>\n",
       "      <td>FC19000329</td>\n",
       "      <td>2019-10-09 9:45:00</td>\n",
       "      <td>108602</td>\n",
       "      <td>POKRANT, DREW</td>\n",
       "      <td>8657.0</td>\n",
       "      <td>MICHAEL LOCKE</td>\n",
       "      <td>HYDE PARK AVE</td>\n",
       "      <td>HYDE PARK</td>\n",
       "      <td>MA</td>\n",
       "      <td>2136</td>\n",
       "      <td>...</td>\n",
       "      <td>NaN</td>\n",
       "      <td>NaN</td>\n",
       "      <td>NaN</td>\n",
       "      <td>NaN</td>\n",
       "      <td>NaN</td>\n",
       "      <td>NaN</td>\n",
       "      <td>Juvenile, Gang</td>\n",
       "      <td>About 9:30 am on Wednesday, October 9, 2019, S...</td>\n",
       "      <td>Cloudy/Partly Cloudy</td>\n",
       "      <td>NaN</td>\n",
       "    </tr>\n",
       "    <tr>\n",
       "      <th>7640</th>\n",
       "      <td>FC19001489</td>\n",
       "      <td>2019-11-29 0:41:00</td>\n",
       "      <td>132064</td>\n",
       "      <td>O'BRIEN, SEAN L.</td>\n",
       "      <td>12260.0</td>\n",
       "      <td>JAMES FOLEY</td>\n",
       "      <td>COMMONWEALTH AVE</td>\n",
       "      <td>BRIGHTON</td>\n",
       "      <td>MA</td>\n",
       "      <td>2134</td>\n",
       "      <td>...</td>\n",
       "      <td>NaN</td>\n",
       "      <td>NaN</td>\n",
       "      <td>NaN</td>\n",
       "      <td>NaN</td>\n",
       "      <td>NaN</td>\n",
       "      <td>NaN</td>\n",
       "      <td>Homeless, Body Worn Camera</td>\n",
       "      <td>About 12:41 AM on Friday, November 29th, 2019,...</td>\n",
       "      <td>Clear (Night)</td>\n",
       "      <td>NaN</td>\n",
       "    </tr>\n",
       "    <tr>\n",
       "      <th>7641</th>\n",
       "      <td>FC19001489</td>\n",
       "      <td>2019-11-29 0:41:00</td>\n",
       "      <td>132064</td>\n",
       "      <td>O'BRIEN, SEAN L.</td>\n",
       "      <td>12260.0</td>\n",
       "      <td>JAMES FOLEY</td>\n",
       "      <td>COMMONWEALTH AVE</td>\n",
       "      <td>BRIGHTON</td>\n",
       "      <td>MA</td>\n",
       "      <td>2134</td>\n",
       "      <td>...</td>\n",
       "      <td>NaN</td>\n",
       "      <td>NaN</td>\n",
       "      <td>NaN</td>\n",
       "      <td>NaN</td>\n",
       "      <td>NaN</td>\n",
       "      <td>NaN</td>\n",
       "      <td>Homeless, Body Worn Camera</td>\n",
       "      <td>About 12:41 AM on Friday, November 29th, 2019,...</td>\n",
       "      <td>Clear (Night)</td>\n",
       "      <td>NaN</td>\n",
       "    </tr>\n",
       "    <tr>\n",
       "      <th>8001</th>\n",
       "      <td>FC19001374</td>\n",
       "      <td>2019-11-17 2:24:00</td>\n",
       "      <td>106708</td>\n",
       "      <td>KAMEL, CHARBEL</td>\n",
       "      <td>11744.0</td>\n",
       "      <td>WILLIAM TONER</td>\n",
       "      <td>NaN</td>\n",
       "      <td>BOSTON</td>\n",
       "      <td>MA</td>\n",
       "      <td>2128</td>\n",
       "      <td>...</td>\n",
       "      <td>NaN</td>\n",
       "      <td>350</td>\n",
       "      <td>Gray</td>\n",
       "      <td>Station Wagon</td>\n",
       "      <td>Passenger Car/ Automobile</td>\n",
       "      <td>NaN</td>\n",
       "      <td>NaN</td>\n",
       "      <td>Officer Kamel and Officer Ortiz assigned to th...</td>\n",
       "      <td>Clear (Night)</td>\n",
       "      <td>NaN</td>\n",
       "    </tr>\n",
       "    <tr>\n",
       "      <th>8002</th>\n",
       "      <td>FC19001374</td>\n",
       "      <td>2019-11-17 2:24:00</td>\n",
       "      <td>106708</td>\n",
       "      <td>KAMEL, CHARBEL</td>\n",
       "      <td>11744.0</td>\n",
       "      <td>WILLIAM TONER</td>\n",
       "      <td>NaN</td>\n",
       "      <td>BOSTON</td>\n",
       "      <td>MA</td>\n",
       "      <td>2128</td>\n",
       "      <td>...</td>\n",
       "      <td>NaN</td>\n",
       "      <td>350</td>\n",
       "      <td>Gray</td>\n",
       "      <td>Station Wagon</td>\n",
       "      <td>Passenger Car/ Automobile</td>\n",
       "      <td>NaN</td>\n",
       "      <td>NaN</td>\n",
       "      <td>Officer Kamel and Officer Ortiz assigned to th...</td>\n",
       "      <td>Clear (Night)</td>\n",
       "      <td>NaN</td>\n",
       "    </tr>\n",
       "    <tr>\n",
       "      <th>8053</th>\n",
       "      <td>FC19000702</td>\n",
       "      <td>2019-10-22 22:40:00</td>\n",
       "      <td>140324</td>\n",
       "      <td>HOLMES, KYLE</td>\n",
       "      <td>12283.0</td>\n",
       "      <td>JAMES TARANTINO</td>\n",
       "      <td>NaN</td>\n",
       "      <td>BOSTON</td>\n",
       "      <td>MA</td>\n",
       "      <td>2119</td>\n",
       "      <td>...</td>\n",
       "      <td>NaN</td>\n",
       "      <td>Legacy</td>\n",
       "      <td>White</td>\n",
       "      <td>4 Door, Sedan</td>\n",
       "      <td>Passenger Car/ Automobile</td>\n",
       "      <td>NaN</td>\n",
       "      <td>Body Worn Camera</td>\n",
       "      <td>TRAFFIC STOP FOR 90/7 (HEADLIGHT). VEHICLE UPO...</td>\n",
       "      <td>Raining</td>\n",
       "      <td>NaN</td>\n",
       "    </tr>\n",
       "    <tr>\n",
       "      <th>8054</th>\n",
       "      <td>FC19000702</td>\n",
       "      <td>2019-10-22 22:40:00</td>\n",
       "      <td>140324</td>\n",
       "      <td>HOLMES, KYLE</td>\n",
       "      <td>12283.0</td>\n",
       "      <td>JAMES TARANTINO</td>\n",
       "      <td>NaN</td>\n",
       "      <td>BOSTON</td>\n",
       "      <td>MA</td>\n",
       "      <td>2119</td>\n",
       "      <td>...</td>\n",
       "      <td>NaN</td>\n",
       "      <td>Legacy</td>\n",
       "      <td>White</td>\n",
       "      <td>4 Door, Sedan</td>\n",
       "      <td>Passenger Car/ Automobile</td>\n",
       "      <td>NaN</td>\n",
       "      <td>Body Worn Camera</td>\n",
       "      <td>TRAFFIC STOP FOR 90/7 (HEADLIGHT). VEHICLE UPO...</td>\n",
       "      <td>Raining</td>\n",
       "      <td>NaN</td>\n",
       "    </tr>\n",
       "    <tr>\n",
       "      <th>8075</th>\n",
       "      <td>FC19001007</td>\n",
       "      <td>2019-11-04 19:35:00</td>\n",
       "      <td>116928</td>\n",
       "      <td>DEPINA, JOAO</td>\n",
       "      <td>9022.0</td>\n",
       "      <td>JOHN HUGHES</td>\n",
       "      <td>WESTVIEW ST</td>\n",
       "      <td>BOSTON</td>\n",
       "      <td>MA</td>\n",
       "      <td>2124</td>\n",
       "      <td>...</td>\n",
       "      <td>NaN</td>\n",
       "      <td>NaN</td>\n",
       "      <td>NaN</td>\n",
       "      <td>NaN</td>\n",
       "      <td>NaN</td>\n",
       "      <td>NaN</td>\n",
       "      <td>Body Worn Camera</td>\n",
       "      <td>Officers observed XXX, XXX and XXX (Known Fran...</td>\n",
       "      <td>Clear (Night)</td>\n",
       "      <td>NaN</td>\n",
       "    </tr>\n",
       "    <tr>\n",
       "      <th>8076</th>\n",
       "      <td>FC19001007</td>\n",
       "      <td>2019-11-04 19:35:00</td>\n",
       "      <td>116928</td>\n",
       "      <td>DEPINA, JOAO</td>\n",
       "      <td>9022.0</td>\n",
       "      <td>JOHN HUGHES</td>\n",
       "      <td>WESTVIEW ST</td>\n",
       "      <td>BOSTON</td>\n",
       "      <td>MA</td>\n",
       "      <td>2124</td>\n",
       "      <td>...</td>\n",
       "      <td>NaN</td>\n",
       "      <td>NaN</td>\n",
       "      <td>NaN</td>\n",
       "      <td>NaN</td>\n",
       "      <td>NaN</td>\n",
       "      <td>NaN</td>\n",
       "      <td>Body Worn Camera</td>\n",
       "      <td>Officers observed XXX, XXX and XXX (Known Fran...</td>\n",
       "      <td>Clear (Night)</td>\n",
       "      <td>NaN</td>\n",
       "    </tr>\n",
       "  </tbody>\n",
       "</table>\n",
       "<p>35 rows × 29 columns</p>\n",
       "</div>"
      ],
      "text/plain": [
       "          fc_num         contact_date contact_officer  contact_officer_name  \\\n",
       "6639  FC19000069   2019-10-01 0:00:00          110128   DASILVA, MOSES-JOSE   \n",
       "6640  FC19000069   2019-10-01 0:00:00          110128   DASILVA, MOSES-JOSE   \n",
       "6653  FC19000191  2019-10-04 21:10:00          126574      O'DWYER, MICHAEL   \n",
       "6654  FC19000191  2019-10-04 21:10:00          126574      O'DWYER, MICHAEL   \n",
       "6667  FC19000323   2019-10-08 9:12:00           12020        HARLOW, DANIEL   \n",
       "6669  FC19000323   2019-10-08 9:12:00           12020        HARLOW, DANIEL   \n",
       "6800  FC19001601  2019-12-04 23:01:00          116222        RAMOS, ANTOINE   \n",
       "6801  FC19001601  2019-12-04 23:01:00          116222        RAMOS, ANTOINE   \n",
       "6802  FC19001601  2019-12-04 23:01:00          116222        RAMOS, ANTOINE   \n",
       "6899  FC19000558  2019-10-15 16:40:00           99776    LEVICHEV, VLADIMIR   \n",
       "6900  FC19000558  2019-10-15 16:40:00           99776    LEVICHEV, VLADIMIR   \n",
       "7021  FC19001690   2019-12-12 6:30:00          106709         JOSEPH, KENNY   \n",
       "7022  FC19001690   2019-12-12 6:30:00          106709         JOSEPH, KENNY   \n",
       "7301  FC19000265  2019-10-06 22:07:00          116222        RAMOS, ANTOINE   \n",
       "7302  FC19000265  2019-10-06 22:07:00          116222        RAMOS, ANTOINE   \n",
       "7306  FC19000276  2019-10-07 19:10:00          135956      HEGERICH, DANIEL   \n",
       "7307  FC19000276  2019-10-07 19:10:00          135956      HEGERICH, DANIEL   \n",
       "7308  FC19000276  2019-10-07 19:10:00          135956      HEGERICH, DANIEL   \n",
       "7327  FC19000470   2019-10-14 0:00:00          126566     FREEDMAN, RICHARD   \n",
       "7328  FC19000470   2019-10-14 0:00:00          126566     FREEDMAN, RICHARD   \n",
       "7369  FC19000917  2019-10-31 20:50:00          116945  KENNEDY, CHRISTOPHER   \n",
       "7370  FC19000917  2019-10-31 20:50:00          116945  KENNEDY, CHRISTOPHER   \n",
       "7450  FC19001627   2019-12-07 2:00:00          116948          WALSH, JAMES   \n",
       "7451  FC19001627   2019-12-07 2:00:00          116948          WALSH, JAMES   \n",
       "7452  FC19001627   2019-12-07 2:00:00          116948          WALSH, JAMES   \n",
       "7523  FC19000329   2019-10-09 9:45:00          108602         POKRANT, DREW   \n",
       "7524  FC19000329   2019-10-09 9:45:00          108602         POKRANT, DREW   \n",
       "7640  FC19001489   2019-11-29 0:41:00          132064      O'BRIEN, SEAN L.   \n",
       "7641  FC19001489   2019-11-29 0:41:00          132064      O'BRIEN, SEAN L.   \n",
       "8001  FC19001374   2019-11-17 2:24:00          106708        KAMEL, CHARBEL   \n",
       "8002  FC19001374   2019-11-17 2:24:00          106708        KAMEL, CHARBEL   \n",
       "8053  FC19000702  2019-10-22 22:40:00          140324          HOLMES, KYLE   \n",
       "8054  FC19000702  2019-10-22 22:40:00          140324          HOLMES, KYLE   \n",
       "8075  FC19001007  2019-11-04 19:35:00          116928          DEPINA, JOAO   \n",
       "8076  FC19001007  2019-11-04 19:35:00          116928          DEPINA, JOAO   \n",
       "\n",
       "      supervisor      supervisor_name            street         city state  \\\n",
       "6639     11586.0  CHRISTOPHER CARROLL  E SPRINGFIELD ST       BOSTON    MA   \n",
       "6640     11586.0  CHRISTOPHER CARROLL  E SPRINGFIELD ST       BOSTON    MA   \n",
       "6653     75661.0      JUANA HERNANDEZ               NaN      ROXBURY    MA   \n",
       "6654     75661.0      JUANA HERNANDEZ               NaN      ROXBURY    MA   \n",
       "6667     11586.0  CHRISTOPHER CARROLL  MELNEA CASS BLVD       BOSTON    MA   \n",
       "6669     11586.0  CHRISTOPHER CARROLL  MELNEA CASS BLVD       BOSTON    MA   \n",
       "6800     10163.0         THOMAS PRATT               NaN       BOSTON    MA   \n",
       "6801     10163.0         THOMAS PRATT               NaN       BOSTON    MA   \n",
       "6802     10163.0         THOMAS PRATT               NaN       BOSTON    MA   \n",
       "6899     81410.0         MATTHEW RYAN               NaN       BOSTON    MA   \n",
       "6900     81410.0         MATTHEW RYAN               NaN       BOSTON    MA   \n",
       "7021      8688.0           JOHN DORIS               NaN  CHARLESTOWN    MA   \n",
       "7022      8688.0           JOHN DORIS               NaN  CHARLESTOWN    MA   \n",
       "7301     95168.0        PATRICK BYRNE       MCLELLAN ST       BOSTON    MA   \n",
       "7302     95168.0        PATRICK BYRNE       MCLELLAN ST       BOSTON    MA   \n",
       "7306     11683.0      JOHN FITZGERALD          LORNE ST       BOSTON    MA   \n",
       "7307     11683.0      JOHN FITZGERALD          LORNE ST       BOSTON    MA   \n",
       "7308     11683.0      JOHN FITZGERALD          LORNE ST       BOSTON    MA   \n",
       "7327     12283.0      JAMES TARANTINO         SEAVER ST      ROXBURY    MA   \n",
       "7328     12283.0      JAMES TARANTINO         SEAVER ST      ROXBURY    MA   \n",
       "7369     10090.0           SEAN SMITH               NaN       BOSTON    MA   \n",
       "7370     10090.0           SEAN SMITH               NaN       BOSTON    MA   \n",
       "7450     10166.0       MICHAEL TALBOT        LINCOLN ST       BOSTON    MA   \n",
       "7451     10166.0       MICHAEL TALBOT        LINCOLN ST       BOSTON    MA   \n",
       "7452     10166.0       MICHAEL TALBOT        LINCOLN ST       BOSTON    MA   \n",
       "7523      8657.0        MICHAEL LOCKE     HYDE PARK AVE    HYDE PARK    MA   \n",
       "7524      8657.0        MICHAEL LOCKE     HYDE PARK AVE    HYDE PARK    MA   \n",
       "7640     12260.0          JAMES FOLEY  COMMONWEALTH AVE     BRIGHTON    MA   \n",
       "7641     12260.0          JAMES FOLEY  COMMONWEALTH AVE     BRIGHTON    MA   \n",
       "8001     11744.0        WILLIAM TONER               NaN       BOSTON    MA   \n",
       "8002     11744.0        WILLIAM TONER               NaN       BOSTON    MA   \n",
       "8053     12283.0      JAMES TARANTINO               NaN       BOSTON    MA   \n",
       "8054     12283.0      JAMES TARANTINO               NaN       BOSTON    MA   \n",
       "8075      9022.0          JOHN HUGHES       WESTVIEW ST       BOSTON    MA   \n",
       "8076      9022.0          JOHN HUGHES       WESTVIEW ST       BOSTON    MA   \n",
       "\n",
       "       zip  ... vehicle_make vehicle_model vehicle_color  vehicle_style  \\\n",
       "6639  2118  ...          NaN           NaN           NaN            NaN   \n",
       "6640  2118  ...          NaN           NaN           NaN            NaN   \n",
       "6653  2119  ...          NaN       Elantra          BLUE  4 Door, Sedan   \n",
       "6654  2119  ...          NaN       Elantra          BLUE  4 Door, Sedan   \n",
       "6667  2119  ...          NaN           NaN           NaN            NaN   \n",
       "6669  2119  ...          NaN           NaN           NaN            NaN   \n",
       "6800  2120  ...          NaN           NaN           NaN            NaN   \n",
       "6801  2120  ...          NaN           NaN           NaN            NaN   \n",
       "6802  2120  ...          NaN           NaN           NaN            NaN   \n",
       "6899  2122  ...          NaN        Passat          Gray  4 Door, Sedan   \n",
       "6900  2122  ...          NaN        Passat          Gray  4 Door, Sedan   \n",
       "7021  2129  ...          NaN           NaN           NaN            NaN   \n",
       "7022  2129  ...          NaN           NaN           NaN            NaN   \n",
       "7301  2121  ...          NaN        Accord           NaN  4 Door, Sedan   \n",
       "7302  2121  ...          NaN        Accord           NaN  4 Door, Sedan   \n",
       "7306  2124  ...          NaN           NaN           NaN            NaN   \n",
       "7307  2124  ...          NaN           NaN           NaN            NaN   \n",
       "7308  2124  ...          NaN           NaN           NaN            NaN   \n",
       "7327  2121  ...          NaN           Rdx           GRA            NaN   \n",
       "7328  2121  ...          NaN           Rdx           GRA            NaN   \n",
       "7369  2124  ...          NaN        Altima         Black  4 Door, Sedan   \n",
       "7370  2124  ...          NaN        Altima         Black  4 Door, Sedan   \n",
       "7450  2111  ...          NaN         Focus          Gray  4 Door, Sedan   \n",
       "7451  2111  ...          NaN         Focus          Gray  4 Door, Sedan   \n",
       "7452  2111  ...          NaN         Focus          Gray  4 Door, Sedan   \n",
       "7523  2136  ...          NaN           NaN           NaN            NaN   \n",
       "7524  2136  ...          NaN           NaN           NaN            NaN   \n",
       "7640  2134  ...          NaN           NaN           NaN            NaN   \n",
       "7641  2134  ...          NaN           NaN           NaN            NaN   \n",
       "8001  2128  ...          NaN           350          Gray  Station Wagon   \n",
       "8002  2128  ...          NaN           350          Gray  Station Wagon   \n",
       "8053  2119  ...          NaN        Legacy         White  4 Door, Sedan   \n",
       "8054  2119  ...          NaN        Legacy         White  4 Door, Sedan   \n",
       "8075  2124  ...          NaN           NaN           NaN            NaN   \n",
       "8076  2124  ...          NaN           NaN           NaN            NaN   \n",
       "\n",
       "                     vehicle_type contact_reason               key_situations  \\\n",
       "6639                          NaN            NaN              Homeless, Drugs   \n",
       "6640                          NaN            NaN              Homeless, Drugs   \n",
       "6653    Passenger Car/ Automobile            NaN                         Gang   \n",
       "6654    Passenger Car/ Automobile            NaN                         Gang   \n",
       "6667                          NaN            NaN              Homeless, Drugs   \n",
       "6669                          NaN            NaN              Homeless, Drugs   \n",
       "6800                          NaN            NaN                         Gang   \n",
       "6801                          NaN            NaN                         Gang   \n",
       "6802                          NaN            NaN                         Gang   \n",
       "6899    Passenger Car/ Automobile            NaN                          NaN   \n",
       "6900    Passenger Car/ Automobile            NaN                          NaN   \n",
       "7021                          NaN            NaN                          NaN   \n",
       "7022                          NaN            NaN                          NaN   \n",
       "7301    Passenger Car/ Automobile            NaN                         Gang   \n",
       "7302    Passenger Car/ Automobile            NaN                         Gang   \n",
       "7306                          NaN            NaN                          NaN   \n",
       "7307                          NaN            NaN                          NaN   \n",
       "7308                          NaN            NaN                          NaN   \n",
       "7327  Suv (sport Utility Vehicle)            NaN                  Shots Fired   \n",
       "7328  Suv (sport Utility Vehicle)            NaN                  Shots Fired   \n",
       "7369    Passenger Car/ Automobile            NaN                          NaN   \n",
       "7370    Passenger Car/ Automobile            NaN                          NaN   \n",
       "7450    Passenger Car/ Automobile            NaN       Gang, Licensed Premise   \n",
       "7451    Passenger Car/ Automobile            NaN       Gang, Licensed Premise   \n",
       "7452    Passenger Car/ Automobile            NaN       Gang, Licensed Premise   \n",
       "7523                          NaN            NaN               Juvenile, Gang   \n",
       "7524                          NaN            NaN               Juvenile, Gang   \n",
       "7640                          NaN            NaN   Homeless, Body Worn Camera   \n",
       "7641                          NaN            NaN   Homeless, Body Worn Camera   \n",
       "8001    Passenger Car/ Automobile            NaN                          NaN   \n",
       "8002    Passenger Car/ Automobile            NaN                          NaN   \n",
       "8053    Passenger Car/ Automobile            NaN             Body Worn Camera   \n",
       "8054    Passenger Car/ Automobile            NaN             Body Worn Camera   \n",
       "8075                          NaN            NaN             Body Worn Camera   \n",
       "8076                          NaN            NaN             Body Worn Camera   \n",
       "\n",
       "                                              narrative               weather  \\\n",
       "6639  Officer responded to a call for for a two male...  Cloudy/Partly Cloudy   \n",
       "6640  Officer responded to a call for for a two male...  Cloudy/Partly Cloudy   \n",
       "6653  orchard park associates XXX andXXX along with ...         Clear (Night)   \n",
       "6654  orchard park associates XXX andXXX along with ...         Clear (Night)   \n",
       "6667  At about 0918 on October 8, 2019 Officers resp...  Cloudy/Partly Cloudy   \n",
       "6669  At about 0918 on October 8, 2019 Officers resp...  Cloudy/Partly Cloudy   \n",
       "6800  Youth Violence Strike Force Firearms Invest.\\n...         Clear (Night)   \n",
       "6801  Youth Violence Strike Force Firearms Invest.\\n...         Clear (Night)   \n",
       "6802  Youth Violence Strike Force Firearms Invest.\\n...         Clear (Night)   \n",
       "6899  OFFICER OBSERVED ABOVE VEHICLE OPERATED BY XXX...  Cloudy/Partly Cloudy   \n",
       "6900  OFFICER OBSERVED ABOVE VEHICLE OPERATED BY XXX...  Cloudy/Partly Cloudy   \n",
       "7021  Officer stopped XXX(XX/XX/XXXX who matched the...  Cloudy/Partly Cloudy   \n",
       "7022  Officer stopped XXX(XX/XX/XXXX who matched the...  Cloudy/Partly Cloudy   \n",
       "7301  Youth Violence Strike Force Invest.\\n\\nVK-16 (...         Clear (Night)   \n",
       "7302  Youth Violence Strike Force Invest.\\n\\nVK-16 (...         Clear (Night)   \n",
       "7306  While responding to a call for shots fired in ...                   NaN   \n",
       "7307  While responding to a call for shots fired in ...                   NaN   \n",
       "7308  While responding to a call for shots fired in ...                   NaN   \n",
       "7327  While taping off crime scene for a person shot...         Clear (Night)   \n",
       "7328  While taping off crime scene for a person shot...         Clear (Night)   \n",
       "7369  YVSF Officers stopped MA RegXXX at Melville an...               Raining   \n",
       "7370  YVSF Officers stopped MA RegXXX at Melville an...               Raining   \n",
       "7450  On 12/7/19, Saturday morning about 2:00am at 1...         Clear (Night)   \n",
       "7451  On 12/7/19, Saturday morning about 2:00am at 1...         Clear (Night)   \n",
       "7452  On 12/7/19, Saturday morning about 2:00am at 1...         Clear (Night)   \n",
       "7523  About 9:30 am on Wednesday, October 9, 2019, S...  Cloudy/Partly Cloudy   \n",
       "7524  About 9:30 am on Wednesday, October 9, 2019, S...  Cloudy/Partly Cloudy   \n",
       "7640  About 12:41 AM on Friday, November 29th, 2019,...         Clear (Night)   \n",
       "7641  About 12:41 AM on Friday, November 29th, 2019,...         Clear (Night)   \n",
       "8001  Officer Kamel and Officer Ortiz assigned to th...         Clear (Night)   \n",
       "8002  Officer Kamel and Officer Ortiz assigned to th...         Clear (Night)   \n",
       "8053  TRAFFIC STOP FOR 90/7 (HEADLIGHT). VEHICLE UPO...               Raining   \n",
       "8054  TRAFFIC STOP FOR 90/7 (HEADLIGHT). VEHICLE UPO...               Raining   \n",
       "8075  Officers observed XXX, XXX and XXX (Known Fran...         Clear (Night)   \n",
       "8076  Officers observed XXX, XXX and XXX (Known Fran...         Clear (Night)   \n",
       "\n",
       "     streetaddr  \n",
       "6639        NaN  \n",
       "6640        NaN  \n",
       "6653        NaN  \n",
       "6654        NaN  \n",
       "6667        NaN  \n",
       "6669        NaN  \n",
       "6800        NaN  \n",
       "6801        NaN  \n",
       "6802        NaN  \n",
       "6899        NaN  \n",
       "6900        NaN  \n",
       "7021        NaN  \n",
       "7022        NaN  \n",
       "7301        NaN  \n",
       "7302        NaN  \n",
       "7306        NaN  \n",
       "7307        NaN  \n",
       "7308        NaN  \n",
       "7327        NaN  \n",
       "7328        NaN  \n",
       "7369        NaN  \n",
       "7370        NaN  \n",
       "7450        NaN  \n",
       "7451        NaN  \n",
       "7452        NaN  \n",
       "7523        NaN  \n",
       "7524        NaN  \n",
       "7640        NaN  \n",
       "7641        NaN  \n",
       "8001        NaN  \n",
       "8002        NaN  \n",
       "8053        NaN  \n",
       "8054        NaN  \n",
       "8075        NaN  \n",
       "8076        NaN  \n",
       "\n",
       "[35 rows x 29 columns]"
      ]
     },
     "execution_count": 6,
     "metadata": {},
     "output_type": "execute_result"
    }
   ],
   "source": [
    "# 35 records in the \"contacts\" dataset contain duplicate values in fc_num column, which should be an unique id. \n",
    "plc[plc.duplicated(subset=[\"fc_num\"], keep=False)]"
   ]
  },
  {
   "cell_type": "code",
   "execution_count": 8,
   "metadata": {},
   "outputs": [],
   "source": [
    "# I kept the last record only. \n",
    "plc = plc.drop_duplicates(subset=[\"fc_num\"], keep=\"last\")"
   ]
  },
  {
   "cell_type": "code",
   "execution_count": 9,
   "metadata": {},
   "outputs": [],
   "source": [
    "# lowercase all columns instead of fc_num\n",
    "fcnum1 = plc[\"fc_num\"]\n",
    "plc = plc.applymap(lambda x: x.lower() if isinstance(x, str) else x)\n",
    "plc[\"fc_num\"] = fcnum1\n",
    "\n",
    "fcnum2 = indvsl[\"fc_num\"]\n",
    "indvsl = indvsl.applymap(lambda x: x.lower() if isinstance(x, str) else x)\n",
    "indvsl[\"fc_num\"] = fcnum2\n"
   ]
  },
  {
   "cell_type": "code",
   "execution_count": 10,
   "metadata": {},
   "outputs": [],
   "source": [
    "# combine \"frisked\" and \"searchperson\" column into one, \"frisked_or_searched_involved\"\n",
    "# remember: data generated from mark43 system will have a nan value because it doesn't contain this column\n",
    "combine_method = (\n",
    "        lambda row: \"y\"\n",
    "        if row.frisked == \"Yy\" or row.searchperson == \"y\"\n",
    "        else np.nan\n",
    "    )"
   ]
  },
  {
   "cell_type": "code",
   "execution_count": 11,
   "metadata": {},
   "outputs": [],
   "source": [
    "combined_plc = plc[[\"frisked\", \"searchperson\"]].apply(\n",
    "        combine_method, axis=1)"
   ]
  },
  {
   "cell_type": "code",
   "execution_count": 13,
   "metadata": {
    "scrolled": true
   },
   "outputs": [],
   "source": [
    "plc[\"person_involved_in_frisked_or_searched\"] = combined_plc\n",
    "plc = plc.drop(columns=[\"frisked\", \"searchperson\"]).reset_index(drop=True)"
   ]
  },
  {
   "cell_type": "markdown",
   "metadata": {},
   "source": [
    "### Deal with the frisk/search columns in fc name dataset (a.k.a. indvsl)"
   ]
  },
  {
   "cell_type": "code",
   "execution_count": 300,
   "metadata": {},
   "outputs": [
    {
     "data": {
      "text/plain": [
       "Index(['recnum', 'fc_num', 'contact_date', 'sex', 'race', 'age', 'build',\n",
       "       'hair_style', 'complexion', 'ethnicity', 'otherclothing', 'skin_tone',\n",
       "       'deceased', 'license_state', 'license_type', 'frisk/search'],\n",
       "      dtype='object')"
      ]
     },
     "execution_count": 300,
     "metadata": {},
     "output_type": "execute_result"
    }
   ],
   "source": [
    "indvsl.columns"
   ]
  },
  {
   "cell_type": "code",
   "execution_count": 14,
   "metadata": {},
   "outputs": [],
   "source": [
    "# To disambuate the frisk/search column from person_involved_in_frisked_or_searched in plc dataset,\n",
    "# I rename it \"frisk/search\"\n",
    "indvsl = indvsl.rename(columns={\"frisk/search\": \"person_frisked_or_searched\"})"
   ]
  },
  {
   "cell_type": "code",
   "execution_count": 15,
   "metadata": {},
   "outputs": [
    {
     "data": {
      "text/plain": [
       "NaN    67742\n",
       "0.0     1755\n",
       "1.0     1040\n",
       "Name: person_frisked_or_searched, dtype: int64"
      ]
     },
     "execution_count": 15,
     "metadata": {},
     "output_type": "execute_result"
    }
   ],
   "source": [
    "# There will be lots of NaN values since only datasets generated from mark43 system have the \"frisk/search\" column\n",
    "indvsl.person_frisked_or_searched.value_counts(dropna=False)"
   ]
  },
  {
   "cell_type": "code",
   "execution_count": 16,
   "metadata": {},
   "outputs": [],
   "source": [
    "indvsl.person_frisked_or_searched = indvsl.person_frisked_or_searched.apply(lambda x: str(x))"
   ]
  },
  {
   "cell_type": "code",
   "execution_count": 17,
   "metadata": {},
   "outputs": [],
   "source": [
    "# convert the value from 0 and 1 to n and y\n",
    "indvsl.person_frisked_or_searched = indvsl.person_frisked_or_searched.replace({\"0.0\":\"n\", \"1.0\":\"y\"})"
   ]
  },
  {
   "cell_type": "markdown",
   "metadata": {},
   "source": [
    "### Infer whether a filed contact involved a search/frisk conduct from indvsl dataset"
   ]
  },
  {
   "cell_type": "code",
   "execution_count": 18,
   "metadata": {},
   "outputs": [],
   "source": [
    "''' \n",
    "Although the fc data in mark43 system doesn't provide frisked/searched info,\n",
    "we can infer whether a field contact involved frisked/searched based on\n",
    "the fc name data - whether the person invovled in the field contact were frisked or searched.\n",
    "'''\n",
    "plc_with_no_fs = plc.person_involved_in_frisked_or_searched.isnull()\n",
    "indvsl_involved_fs = indvsl.groupby(\"fc_num\").apply(\n",
    "    lambda x: \"y\"\n",
    "    if (x.person_frisked_or_searched == \"y\").any()\n",
    "    else \"n\"\n",
    "    if (x.person_frisked_or_searched == \"n\").all()\n",
    "    else np.nan\n",
    "    )"
   ]
  },
  {
   "cell_type": "code",
   "execution_count": 19,
   "metadata": {},
   "outputs": [],
   "source": [
    "plc.loc[plc_with_no_fs, \"person_involved_in_frisked_or_searched\"] = plc[\n",
    "    plc_with_no_fs\n",
    "].apply(lambda x: indvsl_involved_fs.loc[x.fc_num], axis=1)"
   ]
  },
  {
   "cell_type": "markdown",
   "metadata": {},
   "source": [
    "### Datetime object"
   ]
  },
  {
   "cell_type": "code",
   "execution_count": 20,
   "metadata": {},
   "outputs": [],
   "source": [
    "plc = plc.reset_index(drop=True)\n",
    "indvsl = indvsl.reset_index(drop=True)"
   ]
  },
  {
   "cell_type": "code",
   "execution_count": 21,
   "metadata": {},
   "outputs": [],
   "source": [
    "# one weird record should be dropped: 217-04-17 12:30:00\n",
    "weird_date = \"0217-04-17 12:30:00.0000000\"\n",
    "plc = plc[plc.contact_date != weird_date]\n",
    "indvsl = indvsl[indvsl.contact_date != weird_date]"
   ]
  },
  {
   "cell_type": "code",
   "execution_count": 22,
   "metadata": {},
   "outputs": [],
   "source": [
    "plc.contact_date = pd.to_datetime(plc.contact_date)\n",
    "indvsl.contact_date = pd.to_datetime(indvsl.contact_date)"
   ]
  },
  {
   "cell_type": "code",
   "execution_count": 23,
   "metadata": {},
   "outputs": [
    {
     "name": "stderr",
     "output_type": "stream",
     "text": [
      "/opt/anaconda3/lib/python3.7/site-packages/pandas/core/arrays/datetimes.py:692: PerformanceWarning: Non-vectorized DateOffset being applied to Series or DatetimeIndex\n",
      "  PerformanceWarning,\n"
     ]
    }
   ],
   "source": [
    "# delete data records before 2015\n",
    "wrong_year = plc.contact_date.dt.year.astype(int) < 2015 #Again, create a true/false series\n",
    "plc.loc[wrong_year, \"contact_date\"] = plc.contact_date[wrong_year] + pd.offsets.DateOffset(year=2015)"
   ]
  },
  {
   "cell_type": "markdown",
   "metadata": {},
   "source": [
    "### Clean vehicle info"
   ]
  },
  {
   "cell_type": "code",
   "execution_count": 24,
   "metadata": {},
   "outputs": [
    {
     "data": {
      "text/html": [
       "<div>\n",
       "<style scoped>\n",
       "    .dataframe tbody tr th:only-of-type {\n",
       "        vertical-align: middle;\n",
       "    }\n",
       "\n",
       "    .dataframe tbody tr th {\n",
       "        vertical-align: top;\n",
       "    }\n",
       "\n",
       "    .dataframe thead th {\n",
       "        text-align: right;\n",
       "    }\n",
       "</style>\n",
       "<table border=\"1\" class=\"dataframe\">\n",
       "  <thead>\n",
       "    <tr style=\"text-align: right;\">\n",
       "      <th></th>\n",
       "      <th>fc_num</th>\n",
       "      <th>contact_date</th>\n",
       "      <th>contact_officer</th>\n",
       "      <th>contact_officer_name</th>\n",
       "      <th>supervisor</th>\n",
       "      <th>supervisor_name</th>\n",
       "      <th>street</th>\n",
       "      <th>city</th>\n",
       "      <th>state</th>\n",
       "      <th>zip</th>\n",
       "      <th>...</th>\n",
       "      <th>vehicle_model</th>\n",
       "      <th>vehicle_color</th>\n",
       "      <th>vehicle_style</th>\n",
       "      <th>vehicle_type</th>\n",
       "      <th>contact_reason</th>\n",
       "      <th>key_situations</th>\n",
       "      <th>narrative</th>\n",
       "      <th>weather</th>\n",
       "      <th>streetaddr</th>\n",
       "      <th>person_involved_in_frisked_or_searched</th>\n",
       "    </tr>\n",
       "  </thead>\n",
       "  <tbody>\n",
       "    <tr>\n",
       "      <th>0</th>\n",
       "      <td>F190041435</td>\n",
       "      <td>2019-01-01</td>\n",
       "      <td>148310</td>\n",
       "      <td>verderico,james</td>\n",
       "      <td>11586.0</td>\n",
       "      <td>carroll, christopher</td>\n",
       "      <td>NaN</td>\n",
       "      <td>bstn</td>\n",
       "      <td>ma</td>\n",
       "      <td>02118</td>\n",
       "      <td>...</td>\n",
       "      <td>NaN</td>\n",
       "      <td>NaN</td>\n",
       "      <td>NaN</td>\n",
       "      <td>NaN</td>\n",
       "      <td>interaction (massachusetts ave/albany street) ...</td>\n",
       "      <td>NaN</td>\n",
       "      <td>NaN</td>\n",
       "      <td>NaN</td>\n",
       "      <td>NaN</td>\n",
       "      <td>NaN</td>\n",
       "    </tr>\n",
       "  </tbody>\n",
       "</table>\n",
       "<p>1 rows × 28 columns</p>\n",
       "</div>"
      ],
      "text/plain": [
       "       fc_num contact_date contact_officer contact_officer_name  supervisor  \\\n",
       "0  F190041435   2019-01-01          148310      verderico,james     11586.0   \n",
       "\n",
       "        supervisor_name street  city state    zip  ... vehicle_model  \\\n",
       "0  carroll, christopher    NaN  bstn    ma  02118  ...           NaN   \n",
       "\n",
       "  vehicle_color vehicle_style vehicle_type  \\\n",
       "0           NaN           NaN          NaN   \n",
       "\n",
       "                                      contact_reason  key_situations  \\\n",
       "0  interaction (massachusetts ave/albany street) ...             NaN   \n",
       "\n",
       "  narrative weather streetaddr person_involved_in_frisked_or_searched  \n",
       "0       NaN     NaN        NaN                                    NaN  \n",
       "\n",
       "[1 rows x 28 columns]"
      ]
     },
     "execution_count": 24,
     "metadata": {},
     "output_type": "execute_result"
    }
   ],
   "source": [
    "plc.head(1)"
   ]
  },
  {
   "cell_type": "code",
   "execution_count": 25,
   "metadata": {},
   "outputs": [
    {
     "data": {
      "text/plain": [
       "array([nan, 'sedan', 'other', 'compact', 'suv or utility van',\n",
       "       'station wagon', 'school bus', 'truck', 'bus/passenger van',\n",
       "       'motorcycle or scooter', 'convertible',\n",
       "       'passenger car/ automobile', 'cargo van',\n",
       "       'suv (sport utility vehicle)', 'passenger van', 'pickup truck',\n",
       "       'scooter', 'other vehicle', 'motorhome', 'construction vehicle'],\n",
       "      dtype=object)"
      ]
     },
     "execution_count": 25,
     "metadata": {},
     "output_type": "execute_result"
    }
   ],
   "source": [
    "plc.vehicle_type.unique()"
   ]
  },
  {
   "cell_type": "code",
   "execution_count": 26,
   "metadata": {},
   "outputs": [],
   "source": [
    "plc.vehicle_type = plc.vehicle_type.replace({\n",
    "    \"scooter\": 'motorcycle or scooter',\n",
    "    'suv (sport utility vehicle)': 'suv or utility van',\n",
    "    'cargo van': 'suv or utility van',\n",
    "    'passenger van': 'bus or passenger van',\n",
    "    'bus/passenger van': 'bus or passenger van',\n",
    "    'passenger car/ automobile':'passenger car'\n",
    "    \n",
    "})\n",
    "                                        "
   ]
  },
  {
   "cell_type": "code",
   "execution_count": 27,
   "metadata": {},
   "outputs": [
    {
     "data": {
      "text/plain": [
       "array([nan, 'black ', 'gray', 'red', 'green ', 'blue', 'lt. blue',\n",
       "       'white', 'silver', 'brown', 'tan ', 'orange', 'yellow', 'maroon ',\n",
       "       'lt. green ', 'purple', 'gold', 'cream ', 'bla', 'black', 'green',\n",
       "       'maroon', 'gra', 'tan', 'gre', 'light green', 'dark blue',\n",
       "       'dark green', 'pink '], dtype=object)"
      ]
     },
     "execution_count": 27,
     "metadata": {},
     "output_type": "execute_result"
    }
   ],
   "source": [
    "plc.vehicle_color.unique()"
   ]
  },
  {
   "cell_type": "code",
   "execution_count": 28,
   "metadata": {},
   "outputs": [],
   "source": [
    "plc.vehicle_color = plc.vehicle_color.str.rstrip().replace({\n",
    "    \"lt. blue\": \"light blue\",\n",
    "    \"lt. green\": \"light green\",\n",
    "    \"bla\": \"black\",\n",
    "    \"gra\": \"gray\",\n",
    "    \"gre\": \"grean\"\n",
    "})\n",
    "            "
   ]
  },
  {
   "cell_type": "code",
   "execution_count": 29,
   "metadata": {},
   "outputs": [
    {
     "data": {
      "text/plain": [
       "NaN       28981\n",
       "2015.0     1052\n",
       "2004.0      983\n",
       "2005.0      959\n",
       "2008.0      943\n",
       "          ...  \n",
       "1981.0        1\n",
       "1195.0        1\n",
       "115.0         1\n",
       "1971.0        1\n",
       "1977.0        1\n",
       "Name: vehicle_year, Length: 69, dtype: int64"
      ]
     },
     "execution_count": 29,
     "metadata": {},
     "output_type": "execute_result"
    }
   ],
   "source": [
    "plc.vehicle_year.value_counts(dropna=False)"
   ]
  },
  {
   "cell_type": "code",
   "execution_count": 30,
   "metadata": {},
   "outputs": [],
   "source": [
    "def fix_year(col):\n",
    "    if np.isnan(col):\n",
    "        return col\n",
    "    if col >= 1900:\n",
    "        return col\n",
    "    if (col > 99):\n",
    "        return np.nan\n",
    "    if col < 10:\n",
    "        return f\"200{col}\"\n",
    "    if col < 21:\n",
    "        return f\"20{col}\"\n",
    "    else:\n",
    "        return f\"19{col}\"        "
   ]
  },
  {
   "cell_type": "code",
   "execution_count": 31,
   "metadata": {},
   "outputs": [],
   "source": [
    "plc.vehicle_year = plc.vehicle_year.apply(fix_year)"
   ]
  },
  {
   "cell_type": "markdown",
   "metadata": {},
   "source": [
    "### Combine contact reasons in new RMS and narrative in mark43"
   ]
  },
  {
   "cell_type": "code",
   "execution_count": 32,
   "metadata": {},
   "outputs": [],
   "source": [
    "missing_contact_reason = plc.contact_reason.isnull()\n",
    "plc.loc[missing_contact_reason, \"contact_reason\"] = plc[missing_contact_reason][\"narrative\"]\n",
    "plc = plc.drop(columns=[\"narrative\"]).reset_index(drop=True)"
   ]
  },
  {
   "cell_type": "markdown",
   "metadata": {},
   "source": [
    "### Clean up city columns"
   ]
  },
  {
   "cell_type": "code",
   "execution_count": 33,
   "metadata": {},
   "outputs": [
    {
     "data": {
      "text/plain": [
       "array(['bstn', 'boston', nan, 'roslindlae', 'roxbury', 'mattapan',\n",
       "       'dorchester', 'btsn', 'allston', 'jamaica plain', 'east boston',\n",
       "       'charlestown', 'south boston', 'revere', 'brighton', 'bsnt',\n",
       "       'bstna', 'bston', 'palm springs', 'brookline', 'hyde park',\n",
       "       'jamaiaca plain', 'roslindale', 'west roxbury', 'everett',\n",
       "       'worcester', 's. boston', 'sommerville', 'milton', 'pembroke',\n",
       "       'holbrook', 'jamaicia plain', 's.boston', 'dor.', 'e boston',\n",
       "       'e.boston', 's boston', 'bostob', 'brockton', 'weymouth',\n",
       "       'dorchest', 'sbos', 'jp', 'chelsea', 'mission hill', 'charlestwon',\n",
       "       'jamacia plain', 'rox', 'robury', 'so boston', 'so. boston',\n",
       "       'dorcchester', 'chaarlestown', 'east bos', 'chalrestown',\n",
       "       'east bostn', 'dor', 'unkown', 'mt', 'andover', 'quincy',\n",
       "       'dorchster', 'south end', 'dedham', 'bst', 's bstn', 'dorchesterr',\n",
       "       'canton', 'south  boston', 'jamaiica plain', 'roxbury ma',\n",
       "       'e. boston', 'jamaica', '307', 'ddorchester', 'mattpan',\n",
       "       'jamaicia', 'hp', 'randolph', 'do', 'new york', 's. end',\n",
       "       'unknown', 'rx', 'malden', 'jamica plain', 'dorch', 'b', 'roxbuey',\n",
       "       'j.p.', 'so', 'waltham', 'bosotn', 'brln', 'roislindale', '2nd fl',\n",
       "       'bostn', 'c', 'basement', 'everet', 'roxbory', 'jamaica plaine',\n",
       "       'bostom'], dtype=object)"
      ]
     },
     "execution_count": 33,
     "metadata": {},
     "output_type": "execute_result"
    }
   ],
   "source": [
    "plc.city.unique()"
   ]
  },
  {
   "cell_type": "code",
   "execution_count": 34,
   "metadata": {},
   "outputs": [],
   "source": [
    "BOSTON = \"boston\"\n",
    "SOUTHIE = \"south boston\"\n",
    "DORCHESTER = \"dorchester\"\n",
    "CHARLESTOWN = \"charlestown\"\n",
    "JP = \"jamaica plain\"\n",
    "EASTIE = \"east boston\"\n",
    "MATTAPAN = \"mattapan\"\n",
    "ROXBURY = \"roxbury\"\n",
    "HYDEPARK = \"hyde park\"\n",
    "\n",
    "plc.city = plc.city.replace(\n",
    "        {\n",
    "            \"bstn\": BOSTON,\n",
    "            \"so.boston\": SOUTHIE,\n",
    "            \"dorcchester\": DORCHESTER,\n",
    "            \"chaarlestown\": CHARLESTOWN,\n",
    "            \"jp\": JP,\n",
    "            \"east bos\": EASTIE,\n",
    "            \"chalrestown\": CHARLESTOWN,\n",
    "            \"east bostn\": EASTIE,\n",
    "            \"dor\": DORCHESTER,\n",
    "            \"mt\": MATTAPAN,\n",
    "            \"s boston\": SOUTHIE,\n",
    "            \"dorchster\": DORCHESTER,\n",
    "            \"bst\": BOSTON,\n",
    "            \"s bstn\": SOUTHIE,\n",
    "            \"dorchesterr\": DORCHESTER,\n",
    "            \"jamaiica plain\": JP,\n",
    "            \"roxbury ma\": ROXBURY,\n",
    "            \"so boston\": SOUTHIE,\n",
    "            \"e. boston\": EASTIE,\n",
    "            \"jamaica\": JP,\n",
    "            \"ddorchester\": DORCHESTER,\n",
    "            \"mattpan\": MATTAPAN,\n",
    "            \"jamaicia\": JP,\n",
    "            \"s. boston\": SOUTHIE,\n",
    "            \"hp\": HYDEPARK,\n",
    "            \"dorchest\": DORCHESTER,\n",
    "            \"sbos\": SOUTHIE,\n",
    "            \"rox\": ROXBURY,\n",
    "            \"charlestwon\": CHARLESTOWN,\n",
    "            \"jamacia plain\": JP,\n",
    "            \"robury\": ROXBURY,\n",
    "            \"btsn\": BOSTON,\n",
    "            \"sommerville\": \"somerville\",\n",
    "            \"jamaicia plain\": JP,\n",
    "            \"s.boston\": SOUTHIE,\n",
    "            \"dor.\": DORCHESTER,\n",
    "            \"e boston\": EASTIE,\n",
    "            \"e.boston\": EASTIE,\n",
    "            \"bostob\": BOSTON,\n",
    "            \"roslindlae\": \"ROSLINDALE\",\n",
    "            \"bsnt\": BOSTON,\n",
    "            \"bstna\": BOSTON,\n",
    "            \"bston\": BOSTON,\n",
    "            \"jamaiaca plain\": JP,\n",
    "            \"so. boston\": SOUTHIE,\n",
    "            \"unkown\": \"unknown\",\n",
    "        })\n",
    "                           "
   ]
  },
  {
   "cell_type": "markdown",
   "metadata": {},
   "source": [
    "### Clean up age"
   ]
  },
  {
   "cell_type": "code",
   "execution_count": 48,
   "metadata": {},
   "outputs": [
    {
     "data": {
      "text/plain": [
       "count    68815.000000\n",
       "mean        28.651864\n",
       "std         10.305400\n",
       "min          1.000000\n",
       "25%         21.000000\n",
       "50%         26.000000\n",
       "75%         33.000000\n",
       "max         93.000000\n",
       "Name: age, dtype: float64"
      ]
     },
     "execution_count": 48,
     "metadata": {},
     "output_type": "execute_result"
    }
   ],
   "source": [
    "indvsl.age.describe()"
   ]
  },
  {
   "cell_type": "code",
   "execution_count": 36,
   "metadata": {},
   "outputs": [],
   "source": [
    "indvsl.age = indvsl.age.apply(\n",
    "    lambda x:\n",
    "        x if (x > 0) & (x < 100)\n",
    "        else np.nan\n",
    "    )"
   ]
  },
  {
   "cell_type": "markdown",
   "metadata": {},
   "source": [
    "### Merge skin tone column in mark34 with complexion column in new rms"
   ]
  },
  {
   "cell_type": "code",
   "execution_count": 37,
   "metadata": {},
   "outputs": [],
   "source": [
    "missing_complexion = indvsl.complexion.isnull()\n",
    "indvsl.loc[missing_complexion, \"complexion\"] = indvsl[missing_complexion][\"skin_tone\"]\n",
    "indvsl = indvsl.drop(columns=\"skin_tone\").reset_index(drop=True)"
   ]
  },
  {
   "cell_type": "markdown",
   "metadata": {},
   "source": [
    "### Reconcile race"
   ]
  },
  {
   "cell_type": "code",
   "execution_count": 38,
   "metadata": {},
   "outputs": [],
   "source": [
    "indvsl.race = indvsl.race.replace(\n",
    "        {\"american indian or alaskan native\": \"native american / alaskan native\"}\n",
    "    )"
   ]
  },
  {
   "cell_type": "markdown",
   "metadata": {},
   "source": [
    "### Correct state name"
   ]
  },
  {
   "cell_type": "code",
   "execution_count": 39,
   "metadata": {},
   "outputs": [],
   "source": [
    "plc.state = plc.state.replace({\"MX\": \"MA\"})"
   ]
  },
  {
   "cell_type": "markdown",
   "metadata": {},
   "source": [
    "### Reconcile stop duration "
   ]
  },
  {
   "cell_type": "code",
   "execution_count": 41,
   "metadata": {},
   "outputs": [
    {
     "data": {
      "text/plain": [
       "array(['five to ten minutes', 'ten to fifteen minutes',\n",
       "       'less than five minutes', 'thirty to forty-five minutes',\n",
       "       'fifteen to twenty minutes', nan, 'twenty-five to thirty minutes',\n",
       "       'forty-five to sixty minutes', 'twenty to twenty-five minutes',\n",
       "       'longer than two hours', 'one to two hours', 60.0, 0.0, 3.0, 14.0,\n",
       "       740.0, 5.0, 41.0, 10.0, 44.0, 15.0, 39.0, 31.0, 29.0, 21.0, 20.0,\n",
       "       28.0, 8.0, 40.0, 6.0, 25.0, 17.0, 46.0, 149.0, 23.0, 120.0, 7.0,\n",
       "       13.0, 18.0, 82.0, 2.0, 26.0, 9.0, 195.0, 32.0, 1.0, 144.0, 16.0,\n",
       "       30.0, 67745.0, 11.0, 48.0, 49.0, 55.0, 52.0, 19.0, 820.0, 107.0,\n",
       "       105.0, 4.0, 24.0, 1505.0, 200.0, 990.0, 45.0, 80.0, 1440.0, 43.0,\n",
       "       1035.0, 38.0, 58.0, 129.0, 11530.0, 47.0, 67578.0, 33.0, 68.0,\n",
       "       65.0, 131.0, 90.0, 595.0, 674.0, 285.0], dtype=object)"
      ]
     },
     "execution_count": 41,
     "metadata": {},
     "output_type": "execute_result"
    }
   ],
   "source": [
    "plc.stop_duration.unique()"
   ]
  },
  {
   "cell_type": "code",
   "execution_count": 42,
   "metadata": {},
   "outputs": [],
   "source": [
    "def bucket_stop_duration(d):\n",
    "        try:\n",
    "            d = int(d)\n",
    "        except:\n",
    "            return d\n",
    "\n",
    "        if d > 1000:\n",
    "            return np.nan\n",
    "        if d < 5:\n",
    "            return \"less than five minutes\"\n",
    "        if d < 10:\n",
    "            return \"five to ten minutes\"\n",
    "        if d < 15:\n",
    "            return \"ten to fifteen minutes\"\n",
    "        if d < 20:\n",
    "            return \"fifteen to twenty minutes\"\n",
    "        if d < 25:\n",
    "            return \"twenty to twenty-five minutes\"\n",
    "        if d < 30:\n",
    "            return \"twenty-five to thirty minutes\"\n",
    "        if d < 45:\n",
    "            return \"thirty to forty-five minutes\"\n",
    "        if d < 60:\n",
    "            return \"forty-five to sixty minutes\"\n",
    "        if d < 120:\n",
    "            return \"one to two hours\"\n",
    "        return \"longer than two hours\"\n",
    "\n",
    "plc.stop_duration = plc.stop_duration.apply(bucket_stop_duration)"
   ]
  },
  {
   "cell_type": "markdown",
   "metadata": {},
   "source": [
    "### Add a year column for future use"
   ]
  },
  {
   "cell_type": "code",
   "execution_count": 43,
   "metadata": {},
   "outputs": [],
   "source": [
    "# add year column\n",
    "plc[\"year\"] = plc.contact_date.dt.year.astype(str)"
   ]
  },
  {
   "cell_type": "markdown",
   "metadata": {},
   "source": [
    "### Reconcile NaN values"
   ]
  },
  {
   "cell_type": "code",
   "execution_count": 44,
   "metadata": {},
   "outputs": [],
   "source": [
    "replacements = {\"\": np.nan, \"null\": np.nan, \"none\": np.nan}\n",
    "plc = plc.replace(replacements)\n",
    "indvsl = indvsl.replace(replacements)"
   ]
  },
  {
   "cell_type": "markdown",
   "metadata": {},
   "source": [
    "### Calculate number of indivisals involved in a field contact"
   ]
  },
  {
   "cell_type": "code",
   "execution_count": 49,
   "metadata": {},
   "outputs": [],
   "source": [
    "num_of_indvsl = indvsl.groupby([\"fc_num\"]).count()[\"contact_date\"]\n",
    "plc[\"num_of_stopped_people\"] = plc[\"fc_num\"].apply(lambda x: num_of_indvsl[x])"
   ]
  },
  {
   "cell_type": "markdown",
   "metadata": {},
   "source": [
    "### FINALLY, save the files"
   ]
  },
  {
   "cell_type": "code",
   "execution_count": 45,
   "metadata": {},
   "outputs": [],
   "source": [
    "plc.to_csv(\"cleaned_fc_data_2015_2019.csv\")\n",
    "indvsl.to_csv(\"cleaned_fc_name_data_2015_2019.csv\")"
   ]
  },
  {
   "cell_type": "code",
   "execution_count": 46,
   "metadata": {},
   "outputs": [
    {
     "data": {
      "text/plain": [
       "(44085, 28)"
      ]
     },
     "execution_count": 46,
     "metadata": {},
     "output_type": "execute_result"
    }
   ],
   "source": [
    "plc.shape"
   ]
  },
  {
   "cell_type": "code",
   "execution_count": 47,
   "metadata": {},
   "outputs": [
    {
     "data": {
      "text/plain": [
       "(70536, 15)"
      ]
     },
     "execution_count": 47,
     "metadata": {},
     "output_type": "execute_result"
    }
   ],
   "source": [
    "indvsl.shape"
   ]
  },
  {
   "cell_type": "markdown",
   "metadata": {},
   "source": [
    "# Now, let's merge the two datasets"
   ]
  },
  {
   "cell_type": "code",
   "execution_count": 50,
   "metadata": {},
   "outputs": [],
   "source": [
    "df_o = indvsl.merge(plc, left_on = 'fc_num', right_on = 'fc_num')"
   ]
  },
  {
   "cell_type": "code",
   "execution_count": 51,
   "metadata": {},
   "outputs": [
    {
     "name": "stdout",
     "output_type": "stream",
     "text": [
      "We have 70480 people who were stopped by the police between 2015 and 2019\n"
     ]
    }
   ],
   "source": [
    "print(\"We have \"+str(df_o.shape[0])+\" people who were stopped by the police between 2015 and 2019\")"
   ]
  },
  {
   "cell_type": "code",
   "execution_count": 52,
   "metadata": {
    "scrolled": true
   },
   "outputs": [
    {
     "name": "stdout",
     "output_type": "stream",
     "text": [
      "<class 'pandas.core.frame.DataFrame'>\n",
      "Int64Index: 70480 entries, 0 to 70479\n",
      "Data columns (total 43 columns):\n",
      " #   Column                                  Non-Null Count  Dtype         \n",
      "---  ------                                  --------------  -----         \n",
      " 0   recnum                                  67224 non-null  float64       \n",
      " 1   fc_num                                  70480 non-null  object        \n",
      " 2   contact_date_x                          70480 non-null  datetime64[ns]\n",
      " 3   sex                                     70123 non-null  object        \n",
      " 4   race                                    70079 non-null  object        \n",
      " 5   age                                     68762 non-null  float64       \n",
      " 6   build                                   52877 non-null  object        \n",
      " 7   hair_style                              21438 non-null  object        \n",
      " 8   complexion                              49005 non-null  object        \n",
      " 9   ethnicity                               48502 non-null  object        \n",
      " 10  otherclothing                           40486 non-null  object        \n",
      " 11  deceased                                2907 non-null   float64       \n",
      " 12  license_state                           2438 non-null   object        \n",
      " 13  license_type                            650 non-null    object        \n",
      " 14  person_frisked_or_searched              70480 non-null  object        \n",
      " 15  contact_date_y                          70480 non-null  datetime64[ns]\n",
      " 16  contact_officer                         70155 non-null  object        \n",
      " 17  contact_officer_name                    70155 non-null  object        \n",
      " 18  supervisor                              70450 non-null  float64       \n",
      " 19  supervisor_name                         70450 non-null  object        \n",
      " 20  street                                  18771 non-null  object        \n",
      " 21  city                                    69766 non-null  object        \n",
      " 22  state                                   69860 non-null  object        \n",
      " 23  zip                                     67502 non-null  object        \n",
      " 24  searchvehicle                           5548 non-null   object        \n",
      " 25  summonsissued                           2117 non-null   object        \n",
      " 26  stop_duration                           57815 non-null  object        \n",
      " 27  circumstance                            70480 non-null  object        \n",
      " 28  basis                                   70474 non-null  object        \n",
      " 29  vehicle_year                            25886 non-null  object        \n",
      " 30  vehicle_state                           27108 non-null  object        \n",
      " 31  vehicle_make                            23467 non-null  object        \n",
      " 32  vehicle_model                           24488 non-null  object        \n",
      " 33  vehicle_color                           26998 non-null  object        \n",
      " 34  vehicle_style                           24079 non-null  object        \n",
      " 35  vehicle_type                            24368 non-null  object        \n",
      " 36  contact_reason                          65715 non-null  object        \n",
      " 37  key_situations                          1804 non-null   object        \n",
      " 38  weather                                 2361 non-null   object        \n",
      " 39  streetaddr                              26982 non-null  object        \n",
      " 40  person_involved_in_frisked_or_searched  11407 non-null  object        \n",
      " 41  year                                    70480 non-null  object        \n",
      " 42  num_of_stopped_people                   70480 non-null  int64         \n",
      "dtypes: datetime64[ns](2), float64(4), int64(1), object(36)\n",
      "memory usage: 23.7+ MB\n"
     ]
    }
   ],
   "source": [
    "df_o.info()"
   ]
  },
  {
   "cell_type": "code",
   "execution_count": 53,
   "metadata": {},
   "outputs": [
    {
     "data": {
      "text/plain": [
       "(70480, 43)"
      ]
     },
     "execution_count": 53,
     "metadata": {},
     "output_type": "execute_result"
    }
   ],
   "source": [
    "df_o.shape"
   ]
  },
  {
   "cell_type": "code",
   "execution_count": 54,
   "metadata": {},
   "outputs": [],
   "source": [
    "df = df_o.copy()"
   ]
  },
  {
   "cell_type": "markdown",
   "metadata": {},
   "source": [
    "# Missing Values"
   ]
  },
  {
   "cell_type": "code",
   "execution_count": 55,
   "metadata": {},
   "outputs": [
    {
     "data": {
      "text/plain": [
       "<matplotlib.axes._subplots.AxesSubplot at 0x7f918b22a590>"
      ]
     },
     "execution_count": 55,
     "metadata": {},
     "output_type": "execute_result"
    },
    {
     "data": {
      "image/png": "[encoded data removed]",
      "text/plain": [
       "<Figure size 1800x720 with 2 Axes>"
      ]
     },
     "metadata": {
      "needs_background": "light"
     },
     "output_type": "display_data"
    }
   ],
   "source": [
    "missingdata_df = df.columns[df.isnull().any()].tolist()\n",
    "msno.matrix(df[missingdata_df])"
   ]
  },
  {
   "cell_type": "markdown",
   "metadata": {},
   "source": [
    "Based on the above missing value analysis, we can see that some columns are irrelevant or not useful to our analysis as there are too many missing values. I decided to remove the following columns:\n",
    "- deceased\n",
    "- license state\n",
    "- license type\n",
    "- key situations\n",
    "- weather"
   ]
  },
  {
   "cell_type": "code",
   "execution_count": 56,
   "metadata": {},
   "outputs": [],
   "source": [
    "df.drop(['deceased', 'license_state', 'license_type', 'key_situations', 'weather'], axis='columns', inplace=True)"
   ]
  },
  {
   "cell_type": "markdown",
   "metadata": {},
   "source": [
    "# Overview of data"
   ]
  },
  {
   "cell_type": "markdown",
   "metadata": {},
   "source": [
    "#### Numerical data"
   ]
  },
  {
   "cell_type": "code",
   "execution_count": 57,
   "metadata": {},
   "outputs": [
    {
     "data": {
      "text/plain": [
       "[dtype('O'), dtype('float64'), dtype('int64'), dtype('<M8[ns]')]"
      ]
     },
     "execution_count": 57,
     "metadata": {},
     "output_type": "execute_result"
    }
   ],
   "source": [
    "list(set(df.dtypes.tolist()))"
   ]
  },
  {
   "cell_type": "code",
   "execution_count": 58,
   "metadata": {},
   "outputs": [
    {
     "data": {
      "text/html": [
       "<div>\n",
       "<style scoped>\n",
       "    .dataframe tbody tr th:only-of-type {\n",
       "        vertical-align: middle;\n",
       "    }\n",
       "\n",
       "    .dataframe tbody tr th {\n",
       "        vertical-align: top;\n",
       "    }\n",
       "\n",
       "    .dataframe thead th {\n",
       "        text-align: right;\n",
       "    }\n",
       "</style>\n",
       "<table border=\"1\" class=\"dataframe\">\n",
       "  <thead>\n",
       "    <tr style=\"text-align: right;\">\n",
       "      <th></th>\n",
       "      <th>recnum</th>\n",
       "      <th>age</th>\n",
       "      <th>supervisor</th>\n",
       "      <th>num_of_stopped_people</th>\n",
       "    </tr>\n",
       "  </thead>\n",
       "  <tbody>\n",
       "    <tr>\n",
       "      <th>0</th>\n",
       "      <td>100058567.0</td>\n",
       "      <td>34.0</td>\n",
       "      <td>11586.0</td>\n",
       "      <td>1</td>\n",
       "    </tr>\n",
       "    <tr>\n",
       "      <th>1</th>\n",
       "      <td>100058537.0</td>\n",
       "      <td>25.0</td>\n",
       "      <td>91875.0</td>\n",
       "      <td>1</td>\n",
       "    </tr>\n",
       "    <tr>\n",
       "      <th>2</th>\n",
       "      <td>100058581.0</td>\n",
       "      <td>20.0</td>\n",
       "      <td>74877.0</td>\n",
       "      <td>4</td>\n",
       "    </tr>\n",
       "    <tr>\n",
       "      <th>3</th>\n",
       "      <td>100058578.0</td>\n",
       "      <td>22.0</td>\n",
       "      <td>74877.0</td>\n",
       "      <td>4</td>\n",
       "    </tr>\n",
       "    <tr>\n",
       "      <th>4</th>\n",
       "      <td>100058579.0</td>\n",
       "      <td>20.0</td>\n",
       "      <td>74877.0</td>\n",
       "      <td>4</td>\n",
       "    </tr>\n",
       "  </tbody>\n",
       "</table>\n",
       "</div>"
      ],
      "text/plain": [
       "        recnum   age  supervisor  num_of_stopped_people\n",
       "0  100058567.0  34.0     11586.0                      1\n",
       "1  100058537.0  25.0     91875.0                      1\n",
       "2  100058581.0  20.0     74877.0                      4\n",
       "3  100058578.0  22.0     74877.0                      4\n",
       "4  100058579.0  20.0     74877.0                      4"
      ]
     },
     "execution_count": 58,
     "metadata": {},
     "output_type": "execute_result"
    }
   ],
   "source": [
    "df_num = df.select_dtypes(include=['float64', 'int64'])\n",
    "df_num.head()"
   ]
  },
  {
   "cell_type": "code",
   "execution_count": 347,
   "metadata": {},
   "outputs": [
    {
     "data": {
      "text/html": [
       "<div>\n",
       "<style scoped>\n",
       "    .dataframe tbody tr th:only-of-type {\n",
       "        vertical-align: middle;\n",
       "    }\n",
       "\n",
       "    .dataframe tbody tr th {\n",
       "        vertical-align: top;\n",
       "    }\n",
       "\n",
       "    .dataframe thead th {\n",
       "        text-align: right;\n",
       "    }\n",
       "</style>\n",
       "<table border=\"1\" class=\"dataframe\">\n",
       "  <thead>\n",
       "    <tr style=\"text-align: right;\">\n",
       "      <th></th>\n",
       "      <th>age</th>\n",
       "    </tr>\n",
       "  </thead>\n",
       "  <tbody>\n",
       "    <tr>\n",
       "      <th>count</th>\n",
       "      <td>68762.000000</td>\n",
       "    </tr>\n",
       "    <tr>\n",
       "      <th>mean</th>\n",
       "      <td>28.650039</td>\n",
       "    </tr>\n",
       "    <tr>\n",
       "      <th>std</th>\n",
       "      <td>10.303265</td>\n",
       "    </tr>\n",
       "    <tr>\n",
       "      <th>min</th>\n",
       "      <td>1.000000</td>\n",
       "    </tr>\n",
       "    <tr>\n",
       "      <th>25%</th>\n",
       "      <td>21.000000</td>\n",
       "    </tr>\n",
       "    <tr>\n",
       "      <th>50%</th>\n",
       "      <td>26.000000</td>\n",
       "    </tr>\n",
       "    <tr>\n",
       "      <th>75%</th>\n",
       "      <td>33.000000</td>\n",
       "    </tr>\n",
       "    <tr>\n",
       "      <th>max</th>\n",
       "      <td>93.000000</td>\n",
       "    </tr>\n",
       "  </tbody>\n",
       "</table>\n",
       "</div>"
      ],
      "text/plain": [
       "                age\n",
       "count  68762.000000\n",
       "mean      28.650039\n",
       "std       10.303265\n",
       "min        1.000000\n",
       "25%       21.000000\n",
       "50%       26.000000\n",
       "75%       33.000000\n",
       "max       93.000000"
      ]
     },
     "execution_count": 347,
     "metadata": {},
     "output_type": "execute_result"
    }
   ],
   "source": [
    "df_num[['age']].describe()"
   ]
  },
  {
   "cell_type": "markdown",
   "metadata": {},
   "source": [
    "Average age of stopped people is 29. Median age is 26. "
   ]
  },
  {
   "cell_type": "code",
   "execution_count": 59,
   "metadata": {},
   "outputs": [
    {
     "data": {
      "image/png": "[encoded data removed]",
      "text/plain": [
       "<Figure size 720x360 with 1 Axes>"
      ]
     },
     "metadata": {
      "needs_background": "light"
     },
     "output_type": "display_data"
    }
   ],
   "source": [
    "# Age distribution\n",
    "df_num[['age']].hist(bins=100, figsize=(10,5))\n",
    "plt.xlim(0, 100)\n",
    "plt.show()"
   ]
  },
  {
   "cell_type": "markdown",
   "metadata": {},
   "source": [
    "Most of the people stopped by the police were between 21 and 33."
   ]
  },
  {
   "cell_type": "markdown",
   "metadata": {},
   "source": [
    "Next, let's look at the number of people invovled in a field contact."
   ]
  },
  {
   "cell_type": "code",
   "execution_count": 62,
   "metadata": {},
   "outputs": [
    {
     "data": {
      "text/html": [
       "<div>\n",
       "<style scoped>\n",
       "    .dataframe tbody tr th:only-of-type {\n",
       "        vertical-align: middle;\n",
       "    }\n",
       "\n",
       "    .dataframe tbody tr th {\n",
       "        vertical-align: top;\n",
       "    }\n",
       "\n",
       "    .dataframe thead th {\n",
       "        text-align: right;\n",
       "    }\n",
       "</style>\n",
       "<table border=\"1\" class=\"dataframe\">\n",
       "  <thead>\n",
       "    <tr style=\"text-align: right;\">\n",
       "      <th></th>\n",
       "      <th>num_of_stopped_people</th>\n",
       "    </tr>\n",
       "  </thead>\n",
       "  <tbody>\n",
       "    <tr>\n",
       "      <th>count</th>\n",
       "      <td>44085.000000</td>\n",
       "    </tr>\n",
       "    <tr>\n",
       "      <th>mean</th>\n",
       "      <td>1.598730</td>\n",
       "    </tr>\n",
       "    <tr>\n",
       "      <th>std</th>\n",
       "      <td>1.262875</td>\n",
       "    </tr>\n",
       "    <tr>\n",
       "      <th>min</th>\n",
       "      <td>1.000000</td>\n",
       "    </tr>\n",
       "    <tr>\n",
       "      <th>25%</th>\n",
       "      <td>1.000000</td>\n",
       "    </tr>\n",
       "    <tr>\n",
       "      <th>50%</th>\n",
       "      <td>1.000000</td>\n",
       "    </tr>\n",
       "    <tr>\n",
       "      <th>75%</th>\n",
       "      <td>2.000000</td>\n",
       "    </tr>\n",
       "    <tr>\n",
       "      <th>max</th>\n",
       "      <td>30.000000</td>\n",
       "    </tr>\n",
       "  </tbody>\n",
       "</table>\n",
       "</div>"
      ],
      "text/plain": [
       "       num_of_stopped_people\n",
       "count           44085.000000\n",
       "mean                1.598730\n",
       "std                 1.262875\n",
       "min                 1.000000\n",
       "25%                 1.000000\n",
       "50%                 1.000000\n",
       "75%                 2.000000\n",
       "max                30.000000"
      ]
     },
     "execution_count": 62,
     "metadata": {},
     "output_type": "execute_result"
    }
   ],
   "source": [
    "plc[['num_of_stopped_people']].describe()"
   ]
  },
  {
   "cell_type": "markdown",
   "metadata": {},
   "source": [
    "Most of the field contacts involved 1 - 2 people. "
   ]
  },
  {
   "cell_type": "markdown",
   "metadata": {},
   "source": [
    "#### Categorical data"
   ]
  },
  {
   "cell_type": "markdown",
   "metadata": {},
   "source": [
    "More than 88% of the people are male. "
   ]
  },
  {
   "cell_type": "code",
   "execution_count": 349,
   "metadata": {},
   "outputs": [
    {
     "data": {
      "text/plain": [
       "male                          0.888905\n",
       "female                        0.104668\n",
       "NaN                           0.005065\n",
       "unknown                       0.000653\n",
       "transgender male to female    0.000539\n",
       "transgender female to male    0.000170\n",
       "Name: sex, dtype: float64"
      ]
     },
     "execution_count": 349,
     "metadata": {},
     "output_type": "execute_result"
    }
   ],
   "source": [
    "df.sex.value_counts(dropna=False, normalize=True)"
   ]
  },
  {
   "cell_type": "markdown",
   "metadata": {},
   "source": [
    "Almost 70% of the people are Black. However, according to the [US census bureau](https://www.census.gov/quickfacts/bostoncitymassachusetts), whites in Boston outnumber blacks 2:1. "
   ]
  },
  {
   "cell_type": "code",
   "execution_count": 350,
   "metadata": {},
   "outputs": [
    {
     "data": {
      "text/plain": [
       "black                                       0.687599\n",
       "white                                       0.244821\n",
       "unknown                                     0.053916\n",
       "asian                                       0.006427\n",
       "NaN                                         0.005690\n",
       "native american / alaskan native            0.000610\n",
       "native hawaiian / other pacific islander    0.000553\n",
       "other                                       0.000383\n",
       "Name: race, dtype: float64"
      ]
     },
     "execution_count": 350,
     "metadata": {},
     "output_type": "execute_result"
    }
   ],
   "source": [
    "df.race.value_counts(dropna=False, normalize=True)"
   ]
  },
  {
   "cell_type": "markdown",
   "metadata": {},
   "source": [
    "Let's look at the stop duration and see if some people were stopped for a longer period."
   ]
  },
  {
   "cell_type": "code",
   "execution_count": 351,
   "metadata": {},
   "outputs": [
    {
     "data": {
      "text/plain": [
       "five to ten minutes              0.351915\n",
       "NaN                              0.179696\n",
       "ten to fifteen minutes           0.157789\n",
       "less than five minutes           0.120006\n",
       "fifteen to twenty minutes        0.096964\n",
       "twenty-five to thirty minutes    0.023680\n",
       "thirty to forty-five minutes     0.022432\n",
       "twenty to twenty-five minutes    0.019608\n",
       "forty-five to sixty minutes      0.011024\n",
       "one to two hours                 0.010145\n",
       "longer than two hours            0.006740\n",
       "Name: stop_duration, dtype: float64"
      ]
     },
     "execution_count": 351,
     "metadata": {},
     "output_type": "execute_result"
    }
   ],
   "source": [
    "df.stop_duration.value_counts(dropna=False, normalize=True)"
   ]
  },
  {
   "cell_type": "markdown",
   "metadata": {},
   "source": [
    "35% of the people were stopped for 5 - 10 minutes."
   ]
  },
  {
   "cell_type": "code",
   "execution_count": 64,
   "metadata": {},
   "outputs": [],
   "source": [
    "sd_list = []\n",
    "for i in list(range(len(df))):\n",
    "    \n",
    "    sd = df.iloc[i].stop_duration\n",
    "    if (sd in [\"less than five minutes\", \"five to ten minute\", \n",
    "               \"ten to fifteen minutes\", \"fifteen to twenty minutes\",\n",
    "              \"twenty to twenty-five minutes\", \"twenty-five to thirty minutes\"]):\n",
    "        newsd = \"less than 30 minutes\"\n",
    "    elif (pd.isnull(sd)):\n",
    "        newsd = np.nan\n",
    "    elif (sd in [\"forty-five to sixty minutes\", \"thirty to forty-five minutes\"]):\n",
    "        newsd = \"30 minutes to 1 hour\"\n",
    "    else:\n",
    "        newsd = \"longer than 1 hour\"\n",
    "    sd_list.append(newsd)\n",
    "df[\"stop_duration_reassigned\"] = sd_list"
   ]
  },
  {
   "cell_type": "code",
   "execution_count": 68,
   "metadata": {},
   "outputs": [
    {
     "data": {
      "text/html": [
       "<div>\n",
       "<style scoped>\n",
       "    .dataframe tbody tr th:only-of-type {\n",
       "        vertical-align: middle;\n",
       "    }\n",
       "\n",
       "    .dataframe tbody tr th {\n",
       "        vertical-align: top;\n",
       "    }\n",
       "\n",
       "    .dataframe thead th {\n",
       "        text-align: right;\n",
       "    }\n",
       "</style>\n",
       "<table border=\"1\" class=\"dataframe\">\n",
       "  <thead>\n",
       "    <tr style=\"text-align: right;\">\n",
       "      <th>stop_duration_reassigned</th>\n",
       "      <th>30 minutes to 1 hour</th>\n",
       "      <th>less than 30 minutes</th>\n",
       "      <th>longer than 1 hour</th>\n",
       "    </tr>\n",
       "    <tr>\n",
       "      <th>race</th>\n",
       "      <th></th>\n",
       "      <th></th>\n",
       "      <th></th>\n",
       "    </tr>\n",
       "  </thead>\n",
       "  <tbody>\n",
       "    <tr>\n",
       "      <th>asian</th>\n",
       "      <td>0.037221</td>\n",
       "      <td>0.506203</td>\n",
       "      <td>0.456576</td>\n",
       "    </tr>\n",
       "    <tr>\n",
       "      <th>black</th>\n",
       "      <td>0.043160</td>\n",
       "      <td>0.519498</td>\n",
       "      <td>0.437341</td>\n",
       "    </tr>\n",
       "    <tr>\n",
       "      <th>native american / alaskan native</th>\n",
       "      <td>0.054054</td>\n",
       "      <td>0.513514</td>\n",
       "      <td>0.432432</td>\n",
       "    </tr>\n",
       "    <tr>\n",
       "      <th>native hawaiian / other pacific islander</th>\n",
       "      <td>0.027778</td>\n",
       "      <td>0.638889</td>\n",
       "      <td>0.333333</td>\n",
       "    </tr>\n",
       "    <tr>\n",
       "      <th>other</th>\n",
       "      <td>0.181818</td>\n",
       "      <td>0.636364</td>\n",
       "      <td>0.181818</td>\n",
       "    </tr>\n",
       "    <tr>\n",
       "      <th>unknown</th>\n",
       "      <td>0.051806</td>\n",
       "      <td>0.512587</td>\n",
       "      <td>0.435607</td>\n",
       "    </tr>\n",
       "    <tr>\n",
       "      <th>white</th>\n",
       "      <td>0.032361</td>\n",
       "      <td>0.482018</td>\n",
       "      <td>0.485621</td>\n",
       "    </tr>\n",
       "  </tbody>\n",
       "</table>\n",
       "</div>"
      ],
      "text/plain": [
       "stop_duration_reassigned                  30 minutes to 1 hour  \\\n",
       "race                                                             \n",
       "asian                                                 0.037221   \n",
       "black                                                 0.043160   \n",
       "native american / alaskan native                      0.054054   \n",
       "native hawaiian / other pacific islander              0.027778   \n",
       "other                                                 0.181818   \n",
       "unknown                                               0.051806   \n",
       "white                                                 0.032361   \n",
       "\n",
       "stop_duration_reassigned                  less than 30 minutes  \\\n",
       "race                                                             \n",
       "asian                                                 0.506203   \n",
       "black                                                 0.519498   \n",
       "native american / alaskan native                      0.513514   \n",
       "native hawaiian / other pacific islander              0.638889   \n",
       "other                                                 0.636364   \n",
       "unknown                                               0.512587   \n",
       "white                                                 0.482018   \n",
       "\n",
       "stop_duration_reassigned                  longer than 1 hour  \n",
       "race                                                          \n",
       "asian                                               0.456576  \n",
       "black                                               0.437341  \n",
       "native american / alaskan native                    0.432432  \n",
       "native hawaiian / other pacific islander            0.333333  \n",
       "other                                               0.181818  \n",
       "unknown                                             0.435607  \n",
       "white                                               0.485621  "
      ]
     },
     "execution_count": 68,
     "metadata": {},
     "output_type": "execute_result"
    }
   ],
   "source": [
    "pd.crosstab(df.race, df.stop_duration_reassigned).apply(lambda r: r/r.sum(), axis=1)"
   ]
  },
  {
   "cell_type": "markdown",
   "metadata": {},
   "source": [
    "51% of the black people were stopped for less than 30 minutes while 44% of them were stopped for more than 1 hour. 48% of the white people were stopped for less than 30 minutes while 48.5% of them were stopped for more than hour."
   ]
  },
  {
   "cell_type": "markdown",
   "metadata": {},
   "source": [
    "#### Frisked or not?"
   ]
  },
  {
   "cell_type": "code",
   "execution_count": 73,
   "metadata": {},
   "outputs": [
    {
     "data": {
      "text/plain": [
       "NaN    0.844437\n",
       "y      0.133288\n",
       "n      0.022275\n",
       "Name: person_involved_in_frisked_or_searched, dtype: float64"
      ]
     },
     "execution_count": 73,
     "metadata": {},
     "output_type": "execute_result"
    }
   ],
   "source": [
    "plc.person_involved_in_frisked_or_searched.value_counts(normalize=True, dropna=False)\n",
    "# need to check whether some values means no frisk conduct was involved"
   ]
  },
  {
   "cell_type": "markdown",
   "metadata": {},
   "source": [
    "If we include the Nan values in the dataset, 13% of the field contacts involved at least one person being frisked/searched."
   ]
  },
  {
   "cell_type": "code",
   "execution_count": 74,
   "metadata": {},
   "outputs": [
    {
     "data": {
      "text/plain": [
       "y    0.85681\n",
       "n    0.14319\n",
       "Name: person_involved_in_frisked_or_searched, dtype: float64"
      ]
     },
     "execution_count": 74,
     "metadata": {},
     "output_type": "execute_result"
    }
   ],
   "source": [
    "plc.person_involved_in_frisked_or_searched.value_counts(normalize=True)"
   ]
  },
  {
   "cell_type": "markdown",
   "metadata": {},
   "source": [
    "If we only look at records with a y/n value, 86% of field contacts involved at least one person being frisked/searched."
   ]
  },
  {
   "cell_type": "markdown",
   "metadata": {},
   "source": [
    "#### Will field contacts involved at least one black person have higher frisked/search rate?"
   ]
  },
  {
   "cell_type": "code",
   "execution_count": 76,
   "metadata": {},
   "outputs": [],
   "source": [
    "b_indvsl_involved = indvsl.groupby(\"fc_num\").apply(\n",
    "    lambda x: \"y\"\n",
    "    if (x.race == \"black\").any()\n",
    "    else \"n\"\n",
    "    )\n",
    "plc[\"black_people_invovled\"] = plc[\n",
    "    \"fc_num\"\n",
    "].apply(lambda x: b_indvsl_involved[x])"
   ]
  },
  {
   "cell_type": "markdown",
   "metadata": {},
   "source": [
    "Let's look at records with an y/n value in the \"person_involved_in_frisked_or_searched\" column."
   ]
  },
  {
   "cell_type": "code",
   "execution_count": 77,
   "metadata": {},
   "outputs": [],
   "source": [
    "frisked_val = plc[plc[\"person_involved_in_frisked_or_searched\"].notna()]"
   ]
  },
  {
   "cell_type": "code",
   "execution_count": 80,
   "metadata": {},
   "outputs": [
    {
     "data": {
      "text/html": [
       "<div>\n",
       "<style scoped>\n",
       "    .dataframe tbody tr th:only-of-type {\n",
       "        vertical-align: middle;\n",
       "    }\n",
       "\n",
       "    .dataframe tbody tr th {\n",
       "        vertical-align: top;\n",
       "    }\n",
       "\n",
       "    .dataframe thead th {\n",
       "        text-align: right;\n",
       "    }\n",
       "</style>\n",
       "<table border=\"1\" class=\"dataframe\">\n",
       "  <thead>\n",
       "    <tr style=\"text-align: right;\">\n",
       "      <th>black_people_invovled</th>\n",
       "      <th>n</th>\n",
       "      <th>y</th>\n",
       "    </tr>\n",
       "    <tr>\n",
       "      <th>person_involved_in_frisked_or_searched</th>\n",
       "      <th></th>\n",
       "      <th></th>\n",
       "    </tr>\n",
       "  </thead>\n",
       "  <tbody>\n",
       "    <tr>\n",
       "      <th>n</th>\n",
       "      <td>0.159256</td>\n",
       "      <td>0.135582</td>\n",
       "    </tr>\n",
       "    <tr>\n",
       "      <th>y</th>\n",
       "      <td>0.840744</td>\n",
       "      <td>0.864418</td>\n",
       "    </tr>\n",
       "  </tbody>\n",
       "</table>\n",
       "</div>"
      ],
      "text/plain": [
       "black_people_invovled                          n         y\n",
       "person_involved_in_frisked_or_searched                    \n",
       "n                                       0.159256  0.135582\n",
       "y                                       0.840744  0.864418"
      ]
     },
     "execution_count": 80,
     "metadata": {},
     "output_type": "execute_result"
    }
   ],
   "source": [
    "pd.crosstab(frisked_val.person_involved_in_frisked_or_searched, frisked_val.black_people_invovled).apply(lambda r: r/r.sum(), axis=0)"
   ]
  },
  {
   "cell_type": "markdown",
   "metadata": {},
   "source": [
    "For field contacts that have no black people involved, 84% involved a frisk/search conduct. For field contacts that have at least one black person involved, 86% involved a frisk/search conduct."
   ]
  },
  {
   "cell_type": "markdown",
   "metadata": {},
   "source": [
    "#### Next: zip code"
   ]
  },
  {
   "cell_type": "markdown",
   "metadata": {},
   "source": [
    "#### Next: contact reasons"
   ]
  },
  {
   "cell_type": "code",
   "execution_count": 81,
   "metadata": {},
   "outputs": [
    {
     "data": {
      "text/plain": [
       "0        interaction (massachusetts ave/albany street) ...\n",
       "1        at about 0059 on january 1, 2019 office harlow...\n",
       "2        r/c for a&b at xxx mass ave. victim xxx (xx/xx...\n",
       "3        01/01/19 - xxx (inactive brunswick st) was pla...\n",
       "4        encountered xxx in front of station. matches d...\n",
       "                               ...                        \n",
       "44080    traffic stop\\nwith xxx xx/xx/xxxx and xxx xx/x...\n",
       "44081                                                  NaN\n",
       "44082    xxx and xxx was present during a drug transact...\n",
       "44083    matched description of 911 call for suspect st...\n",
       "44084                         warrant arrest: warrant #xxx\n",
       "Name: contact_reason, Length: 44085, dtype: object"
      ]
     },
     "execution_count": 81,
     "metadata": {},
     "output_type": "execute_result"
    }
   ],
   "source": [
    "plc.contact_reason"
   ]
  },
  {
   "cell_type": "code",
   "execution_count": null,
   "metadata": {},
   "outputs": [],
   "source": []
  }
 ],
 "metadata": {
  "celltoolbar": "Raw Cell Format",
  "kernelspec": {
   "display_name": "Python 3",
   "language": "python",
   "name": "python3"
  },
  "language_info": {
   "codemirror_mode": {
    "name": "ipython",
    "version": 3
   },
   "file_extension": ".py",
   "mimetype": "text/x-python",
   "name": "python",
   "nbconvert_exporter": "python",
   "pygments_lexer": "ipython3",
   "version": "3.7.6"
  }
 },
 "nbformat": 4,
 "nbformat_minor": 4
}
